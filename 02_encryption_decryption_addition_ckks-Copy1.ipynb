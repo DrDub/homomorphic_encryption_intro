{
 "cells": [
  {
   "cell_type": "markdown",
   "metadata": {},
   "source": [
    "# Encryption in CKKS"
   ]
  },
  {
   "cell_type": "markdown",
   "metadata": {},
   "source": [
    "## Introduction"
   ]
  },
  {
   "cell_type": "code",
   "execution_count": 1,
   "metadata": {
    "ExecuteTime": {
     "end_time": "2020-08-24T12:38:19.097131Z",
     "start_time": "2020-08-24T12:38:19.087664Z"
    }
   },
   "outputs": [],
   "source": [
    "text = \"\"\"Now the have seen why we work on polynomials of $\\mathbb{Z}_q[X]/(X^N+1)$, and how we could get an encryption scheme based on this, let's see how we can define addition and multiplication ciphertexts to have an homomorphic encryption scheme.\n",
    "\n",
    "So we said that we have a secret $s$, and a public key $p = (b,a) = (-a.s +e, a)$. To encrypt a message $\\mu$ we simply output $c = (\\mu + b, a)$, and to decrypt it with $s$ we evaluate $c_0 + c_1.s$ which will approximately gives the original message.\n",
    "\n",
    "Now suppose we have two messages, $\\mu$ and $\\mu'$ and that we encrypt them into $c = (c_0,c_1)$ and $c' = (c_0',c_1')$. Then $c_{add} = c + c' = (c_0 + c_0',c_1 + c_1')$ is a correct encryption of $\\mu + \\mu'$, i.e. when we decrypt it using $s$ we get (approximatively) $\\mu + \\mu'$.\n",
    "\n",
    "Indeed, the decryption mechanism of $c_{add}$ yields $c_{add,0} + c_{add,1}.s = c_0 + c_0' + (c_1 + c_1').s = c_0 + c_1.s + c_0' + c_1'.s = \\mu + \\mu' + 2e \\approx \\mu + \\mu'$ because we said that $e$ is negligible.\n",
    "\n",
    "What this means is that if you add ciphertexts, and you decrypt them, you will get the addition of the plaintexts! This  means that with this simple scheme, you can allow someone to perform additions on encrypted data, and the user can still decrypt it and get the correct result. This is our first step toward an homomorphic encryption scheme.\n",
    "\n",
    "Nonetheless, we still need to define the multiplication on ciphertexts, which is more involved. Indeed, our goal will be to find a ciphertext $c_{mult}$ such that when we decrypt it with the secret key $s$, we get the product of the plaintexts. To do this, one way of seeing this problem is noticing that the decryption can be seen as a polynomial in the secret key $s$. Indeed it is \n",
    "\n",
    "\"\"\""
   ]
  },
  {
   "cell_type": "code",
   "execution_count": 2,
   "metadata": {
    "ExecuteTime": {
     "end_time": "2020-08-24T12:38:20.520998Z",
     "start_time": "2020-08-24T12:38:20.500856Z"
    }
   },
   "outputs": [
    {
     "data": {
      "text/plain": [
       "\"Now the have seen why we work on polynomials of \\\\(\\\\mathbb{Z}_q[X]/(X^N+1)\\\\), and how we could get an encryption scheme based on this, let's see how we can define addition and multiplication ciphertexts to have an homomorphic encryption scheme.\\n\\nSo we said that we have a secret \\\\(s\\\\), and a public key \\\\(p = (b,a) = (-a.s +e, a)\\\\). To encrypt a message \\\\(\\\\mu\\\\) we simply output \\\\(c = (\\\\mu + b, a)\\\\), and to decrypt it with \\\\(s\\\\) we evaluate \\\\(c_0 + c_1.s\\\\) which will approximately gives the original message.\\n\\nNow suppose we have two messages, \\\\(\\\\mu\\\\) and \\\\(\\\\mu'\\\\) and that we encrypt them into \\\\(c = (c_0,c_1)\\\\) and \\\\(c' = (c_0',c_1')\\\\). Then \\\\(c_{add} = c + c' = (c_0 + c_0',c_1 + c_1')\\\\) is a correct encryption of \\\\(\\\\mu + \\\\mu'\\\\), i.e. when we decrypt it using \\\\(s\\\\) we get (approximatively) \\\\(\\\\mu + \\\\mu'\\\\).\\n\\nIndeed, the decryption mechanism of \\\\(c_{add}\\\\) yields \\\\(c_{add,0} + c_{add,1}.s = c_0 + c_0' + (c_1 + c_1').s = c_0 + c_1.s + c_0' + c_1'.s = \\\\mu + \\\\mu' + 2e \\x07pprox \\\\mu + \\\\mu'\\\\) because we said that \\\\(e\\\\) is negligible.\\n\\nWhat this means is that if you add ciphertexts, and you decrypt them, you will get the addition of the plaintexts! This  means that with this simple scheme, you can allow someone to perform additions on encrypted data, and the user can still decrypt it and get the correct result. This is our first step toward an homomorphic encryption scheme.\\n\\nNonetheless, we still need to define the multiplication on ciphertexts, which is more involved. Indeed, our goal will be to find a ciphertext \\\\(c_{mult}\\\\) such that when we decrypt it with the secret key \\\\(s\\\\), we get the product of the plaintexts. To do this, one way of seeing this problem is noticing that the decryption can be seen as a polynomial in the secret key \\\\(s\\\\). Indeed it is \\n\\n\""
      ]
     },
     "execution_count": 2,
     "metadata": {},
     "output_type": "execute_result"
    }
   ],
   "source": [
    "import re\n",
    "\n",
    "mystring = 'This string $aaz$ has a $qsfdfsqd$ in it'\n",
    "\n",
    "pattern = re.compile(r'(\\$)(.*?)(\\$)')\n",
    "\n",
    "newstring = pattern.sub(r\"\\(\\2\\)\", text)\n",
    "newstring"
   ]
  },
  {
   "cell_type": "markdown",
   "metadata": {},
   "source": [
    "Now that we saw how vectors can be encoded into polynomials in the CKKS scheme, we will see how one can perform encryption and decryption. We will see the high picture view of encryption and decryption, and it will actually be easier than encoding and decoding. \n",
    "\n",
    "CKKS is a public key encryption scheme, where a secret key and a public key are generated. While the public key is used for encryption and can be shared, the private key is used for decryption and must be kept secret.\n",
    "\n",
    "The foundation of CKKS, and many other homomorphic encryption schemes, is the Learning With Error (LWE) problem. The LWE problem is to distinguish noisy pairs of the form $(a_i, b_i) = (a_i, <a_i,s> + e_i)$ from truly random ones in $\\mathbb{Z}_q^n \\times \\mathbb{Z}_q$. Here $a_i, s \\in \\mathbb{Z}_q^n$, $a_i$ is uniformly sampled, $s$ is our secret, and the $e_i \\in \\mathbb{Z}_q$ are small noises used to make the problem harder.\n",
    "\n",
    "The LWE problem is known to be as hard as worst case lattice problems, which are currently secure against attacks from quantum computers. Therefore, we can exploit the fact that finding a secret $s$ from pairs of $(a_i, <a_i,s> + e_i)$ is hard, and build a cryptosystem upon this. \n",
    "\n",
    "Suppose we have generated a secret key $s \\in \\mathbb{Z}_q^n$, and display $n$ pairs of the type $(a_i, <a_i,s> + e_i)$, so we can write this in matrix form $(A, A.s + e)$ with $A \\in \\mathbb{Z}_q^{n \\times n}, e \\in \\mathbb{Z}_q^n$. As we said, we can consider $p = (-A.s + e, A)$ to be our public key, as the LWE problem states that it is hard to recover the secret key from it, therefore it can be known to anyone. We chose to store $-A.s$ instead of $A.s$ for convenience as we will see later, but it doesn't change the problem.\n",
    "\n",
    "Then to encrypt and decrypt a message $\\mu \\in \\mathbb{Z}_q^n$ using the public and secret key, we can use the following scheme:\n",
    "- Encryption of $\\mu$ using $p$: output $c = (\\mu,0) + p) = (\\mu -A.s + e, A) = (c_0, c_1)$.\n",
    "- Decryption of $c$ using $s$: output $\\tilde{\\mu} = c_0 + c_1.s = \\mu -A.s + e + A.s = \\mu + e \\approx \\mu$\n",
    "\n",
    "So for the encryption phase, we take the public key, and use it to mask our message $\\mu$. The message is thus hidden in the first coordinate of the ciphertext with a the mask $-A.s$. Remember that $A$ is sampled uniformly, so it will indeed mask $\\mu$ effectively. To remove it, we can use the second coordinate, which only stores $A$ and combine it with the secret key $s$ to obtain the decryption which is $\\mu + e$. Notice here that we do not exactly get the original message $\\mu$ but $\\mu$ plus some noise $e$. If $e$ is small enough, then the decryption will be close to the original $\\mu$.\n",
    "\n",
    "So we have seen here how to use the LWE problem to build a public crypto scheme that is secure against quantum attacks. The problem with the implementation above, is that while the secret key has size $\\mathcal{O}(n)$, the public key has size $\\mathcal{O}(n^2)$ due to the matrix $A$ and computations will also require $\\mathcal{O}(n^2)$ operations. Because $n$ will dictate the security of our scheme, if we use LWE to construct our scheme, it will be too inefficient in practice as the $\\mathcal{O}(n^2)$ size of keys and complexity will make it too impractical.\n",
    "\n",
    "That is why we will consider the Ring Learning With Error problem, which is a variant of LWE but on rings. Instead of working with vectors in $\\mathbb{Z}_q^n$, we will work on polynomials in $\\mathbb{Z}_q[X]/(X^N+1)$ (we suppose here that $n$ is a power of 2). So now we draw $a$, $s$, and $e$ from $\\mathbb{Z}_q[X]/(X^N+1)$, where $a$ is still sampled uniformly, $s$ is a small secret polynomial, and $e$ is a small noisy polynomial. Switching to RLWE has two main advantadges:\n",
    "- The key size is no longer quadratic but linear, as we now output the public key $p = (-a.s +e, a)$, where $a.s$ denotes the polynomial product of $a$ with $s$. Because all operations are done between polynomials, both the private and public keys are of size $\\mathcal{O}(n)$. \n",
    "- Multiplications are done on polynomials, therefore it can be done with a complexity of $\\mathcal{O}(n log(n))$ using Discrete Fourier Transform, instead of $\\mathcal{O}(n^2)$ because we had to do matrix vector multiplication. \n",
    "\n",
    "Therefore by using RLWE instead of LWE, we will much smaller keys, and operations will be even faster, so the preceding scheme becomes much more practical. Moreover, the RLWE is still a hard problem and provides strong security guarantees. Indeed the paper [On Ideal Lattices and Learning with Errors Over Rings](https://eprint.iacr.org/2012/230.pdf) proves that the RLWE problem is as hard as worst-case problems on ideal lattices. \n",
    "\n",
    "We know understand why it was important to work with polynomials because they provide the basis for an efficient and secure scheme. Therefore you can understand now why we had to go through all the problems of converting our vectors into polynomials of $\\mathbb{Z}_q[X]/(X^N+1)$ and vice-versa."
   ]
  },
  {
   "cell_type": "markdown",
   "metadata": {},
   "source": [
    "Now the have seen why we work on polynomials of $\\mathbb{Z}_q[X]/(X^N+1)$, and how we could get an encryption scheme based on this, let's see how we can define addition and multiplication ciphertexts to have an homomorphic encryption scheme.\n",
    "\n",
    "So we said that we have a secret $s$, and a public key $p = (b,a) = (-a.s +e, a)$. To encrypt a message $\\mu$ we simply output $c = (\\mu + b, a)$, and to decrypt it with $s$ we evaluate $c_0 + c_1.s$ which will approximately gives the original message.\n",
    "\n",
    "Now suppose we have two messages, $\\mu$ and $\\mu'$ and that we encrypt them into $c = (c_0,c_1)$ and $c' = (c_0',c_1')$. Then $c_{add} = c + c' = (c_0 + c_0',c_1 + c_1')$ is a correct encryption of $\\mu + \\mu'$, i.e. when we decrypt it using $s$ we get (approximatively) $\\mu + \\mu'$.\n",
    "\n",
    "Indeed, the decryption mechanism of $c_{add}$ yields $c_{add,0} + c_{add,1}.s = c_0 + c_0' + (c_1 + c_1').s = c_0 + c_1.s + c_0' + c_1'.s = \\mu + \\mu' + 2e \\approx \\mu + \\mu'$ because we said that $e$ is negligible.\n",
    "\n",
    "What this means is that if you add ciphertexts, and you decrypt them, you will get the addition of the plaintexts! This  means that with this simple scheme, you can allow someone to perform additions on encrypted data, and the user can still decrypt it and get the correct result. This is our first step toward an homomorphic encryption scheme.\n",
    "\n",
    "Nonetheless, we still need to define the multiplication on ciphertexts, which is more involved. Indeed, our goal will be to find a ciphertext $c_{mult}$ such that when we decrypt it with the secret key $s$, we get the product of the plaintexts. To do this, one way of seeing this problem is noticing that the decryption can be seen as a polynomial in the secret key $s$. Indeed it is \n",
    "\n"
   ]
  },
  {
   "cell_type": "markdown",
   "metadata": {},
   "source": [
    "## Preliminaries"
   ]
  },
  {
   "cell_type": "markdown",
   "metadata": {},
   "source": [
    "![discrete gaussian](https://raw.githubusercontent.com/dhuynh95/homomorphic_encryption_intro/master/images/discrete_gaussian.PNG)\n",
    "<center>Discrete Gaussian on lattices of $\\mathbb{Z}^2$ (source : <a href=\"https://eprint.iacr.org/2012/230.pdf\">On Ideal Lattices and Learning with Errors Over Rings</a>)</center>"
   ]
  },
  {
   "cell_type": "markdown",
   "metadata": {},
   "source": [
    "Let's see now in practice how it is implemented. We will use the notation of the [CKKS](https://eprint.iacr.org/2016/421.pdf) paper, and denote for any real $\\sigma > 0$, $\\mathcal{DG}(\\sigma^2)$ the discrete Gaussian distribution, which will be used for the sampling of \"small\" polynomials. While sampling from a Gaussian is simple in $\\mathbb{R}^n$, we will need to define a sampling method on $\\mathcal{R}$. Taking advantage of the nice structure of the cyclotomic ring $\\mathcal{R}$, CKKS provides the following method to sample from $\\mathcal{R}$:\n",
    "\n",
    "- First sample $z \\sim \\mathcal{N}(0, \\sigma^2 I)$, where $I$ is the identity matrix of dimension $N$.\n",
    "- Project it on $\\mathbb{H} = \\{z \\in \\mathbb{C}^{N} : z_j = \\overline{z_{-j}} \\}$ using the matrix $U$ defined before for encoding.\n",
    "- Encode it into a polynomial in $\\mathcal{R}$ using the same process for encoding by rounding it in $\\sigma(\\mathcal{R})$ and encode it with $\\sigma^{-1}$.\n",
    "\n",
    "In addition to $\\mathcal{DG}(\\sigma^2)$, we will need the following distributions :\n",
    "- $\\mathcal{HWT}(h)$, for $h \\in [0, \\dots, N]$, which outputs a vector in $\\{0,\\pm 1\\}^N$, where $h$ coordinates are non zero.\n",
    "- $\\mathcal{ZO}(p)$ with $p \\in [0,1]$, which outputs a vector in $\\{0,\\pm 1\\}^N$, with a probability $p/2$ to output $\\pm 1$, and $1 - p$ to output $0$.\n",
    "\n",
    "Note that these distributions output vectors, and we will use the generated coefficients to define polynomials whose coefficients are the coordinates of the vector.\n",
    "\n",
    "Now that we have all the distributions needed for CKKS, we can create the secret keys and public keys."
   ]
  },
  {
   "cell_type": "markdown",
   "metadata": {},
   "source": [
    "## Key generation"
   ]
  },
  {
   "cell_type": "markdown",
   "metadata": {},
   "source": [
    "Now that we have all the distributions needed for CKKS, we can create the secret keys and public keys. To do so, first sample $s \\sim \\mathcal{HWT}(h)$, then sample $a$ uniformly from $\\mathcal{R}_q$ and $e \\sim \\mathcal{DG}(\\sigma^2)$. Let $pk = (-a s + e, a) = (pk_0, pk_1)$. Then $sk$ will be our secret key, and $pk$ our public key."
   ]
  },
  {
   "cell_type": "markdown",
   "metadata": {},
   "source": [
    "## Encryption and decryption"
   ]
  },
  {
   "cell_type": "markdown",
   "metadata": {},
   "source": [
    "To encrypt a plaintext polynomial $m \\in \\mathcal{R}$, we simply need to sample $e_0, e_1 \\sim \\mathcal{DG}(\\sigma^2)$ and $v \\sim \\mathcal{ZO}(0.5)$. Then output $c = v . pk + (m + e_0, e_1) = (- a s v + e v + m + e_0, a v + e_1)$. The intuition behind this, is that $e$, $e_0$, $e_1$ are just small noisy polynomials used to slightly disturb the message. However the $- a s v$ polynomial will have much bigger coefficients, as $a$ is chosen uniformly on $\\mathcal{R}_q$. Therefore this term will mask $m$ from the rest. \n",
    "\n",
    "To decrypt a ciphertext $c = (c_0, c_1)$ we will need to use the secret key $sk$. Decryption of a $c$ is simply done by computing $\\tilde{m} = c_0 + c_1 sk = m + e v + e_0 + s e_1$, with $\\tilde{m}$ the decrypted polynomial. Because the error polynomials have small coefficients compared to $m$, which was scaled previously by $\\Delta$, we have that $\\tilde{m} \\approx m$. \n",
    "\n",
    "![Encryption and decryption](https://raw.githubusercontent.com/dhuynh95/homomorphic_encryption_intro/master/images/encryption_decryption.PNG)\n",
    "<center>Encryption and decryption (source : Introduction to CKKS, from the workshop \"Lattices: From Theory to Practice\" 2020).</center>\n",
    "\n",
    "The figure aboves provides an illustration of this principle. We can see that a plaintext polynomial is encrypted into a couple of polynomials, where we add a mask (the $- a s v$ term) which covers the Most Significant Bits (MSB). This means that the message lies in the Least Significant Bits (LSB), and is hidden by a mask whose coefficients are much larger than the original message. Decrypting consists of removing this mask using the second polynomial and the secret key, therefore recovering the original plaintext."
   ]
  },
  {
   "cell_type": "markdown",
   "metadata": {},
   "source": [
    "## Addition"
   ]
  },
  {
   "cell_type": "markdown",
   "metadata": {},
   "source": [
    "Addition of two ciphertexts is simple. Suppose we have two plaintexts $m_1$ and $m_2$ encoded into $c_1 = (b_1, a_1)$ and $c_2 = (b_2, a_2)$, and that their decryption yield $b_1 + a_1 sk = m_1 + e_1$ and $b_2 + a_2 sk = m_2 + e_2$, with $e_1$ and $e_2$ small error polynomials. Then by outputing $\\tilde{c} = (b_1 + b_2, a_1 + a_2)$, we have that the decryption operation will yield $m_1 + m_2 + e$ with $e$ a small error.\n",
    "\n",
    "Indeed, if we perform decryption $\\tilde{c}$ we obtain : $c_0 + c_1 sk = a_0 + b_0 + a_1 sk + b_1 s = m_1 + m_2 + e_1 + e_2 = m_1 + m_2 + e$, with $e = e_1 + e_2$. To see that $e$ is a \"small\" polynomial, \\cite{song} provides more details on the boundaries of $e$. Therefore, we have that adding the polynomial of each ciphertext coordinates yields a correct encryption of the sum of the messages. Thus we define $\\texttt{Add}(c_1,c_2) = c_1 + c_2$."
   ]
  },
  {
   "cell_type": "markdown",
   "metadata": {},
   "source": [
    "Here is the code we created for encoding and decoding in CKKS."
   ]
  },
  {
   "cell_type": "code",
   "execution_count": 1,
   "metadata": {
    "ExecuteTime": {
     "end_time": "2020-09-11T06:42:04.540868Z",
     "start_time": "2020-09-11T06:42:04.114598Z"
    }
   },
   "outputs": [],
   "source": [
    "from numpy.polynomial import Polynomial\n",
    "import numpy as np\n",
    "\n",
    "def round_coordinates(coordinates):\n",
    "    \"\"\"Gives the integral rest.\"\"\"\n",
    "    coordinates = coordinates - np.floor(coordinates)\n",
    "    return coordinates\n",
    "\n",
    "def coordinate_wise_random_rounding(coordinates):\n",
    "    \"\"\"Rounds coordinates randonmly.\"\"\"\n",
    "    r = round_coordinates(coordinates)\n",
    "    f = np.array([np.random.choice([c, c-1], 1, p=[1-c, c]) for c in r]).reshape(-1)\n",
    "    \n",
    "    rounded_coordinates = coordinates - f\n",
    "    rounded_coordinates = [int(coeff) for coeff in rounded_coordinates]\n",
    "    return rounded_coordinates\n",
    "\n",
    "class CKKSEncoder:\n",
    "    \"\"\"Basic CKKS encoder to encode complex vectors into polynomials.\"\"\"\n",
    "    \n",
    "    def __init__(self, context, scale:float):\n",
    "        \"\"\"Initializes with scale.\"\"\"\n",
    "        \n",
    "        M = context.M\n",
    "        self.context = context\n",
    "        self.xi = np.exp(2 * np.pi * 1j / M)\n",
    "        self.M = M\n",
    "        self.create_sigma_R_basis()\n",
    "        self.scale = scale\n",
    "        \n",
    "        self.slot_count = M // 4\n",
    "        \n",
    "    @staticmethod\n",
    "    def vandermonde(xi: np.complex128, M: int) -> np.array:\n",
    "        \"\"\"Computes the Vandermonde matrix from a m-th root of unity.\"\"\"\n",
    "        \n",
    "        N = M //2\n",
    "        matrix = []\n",
    "        # We will generate each row of the matrix\n",
    "        for i in range(N):\n",
    "            # For each row we select a different root\n",
    "            root = xi ** (2 * i + 1)\n",
    "            row = []\n",
    "\n",
    "            # Then we store its powers\n",
    "            for j in range(N):\n",
    "                row.append(root ** j)\n",
    "            matrix.append(row)\n",
    "        return matrix\n",
    "    \n",
    "    def sigma_inverse(self, b: np.array) -> Polynomial:\n",
    "        \"\"\"Encodes the vector b in a polynomial using an M-th root of unity.\"\"\"\n",
    "\n",
    "        # First we create the Vandermonde matrix\n",
    "        A = CKKSEncoder.vandermonde(self.xi, M)\n",
    "\n",
    "        # Then we solve the system\n",
    "        coeffs = np.linalg.solve(A, b)\n",
    "\n",
    "        # Finally we output the polynomial\n",
    "        p = Polynomial(coeffs)\n",
    "        return p\n",
    "\n",
    "    def sigma(self, p: Polynomial) -> np.array:\n",
    "        \"\"\"Decodes a polynomial by applying it to the M-th roots of unity.\"\"\"\n",
    "\n",
    "        outputs = []\n",
    "        N = self.M //2\n",
    "\n",
    "        # We simply apply the polynomial on the roots\n",
    "        for i in range(N):\n",
    "            root = self.xi ** (2 * i + 1)\n",
    "            output = p(root)\n",
    "            outputs.append(output)\n",
    "        return np.array(outputs)\n",
    "    \n",
    "\n",
    "    def pi(self, z: np.array) -> np.array:\n",
    "        \"\"\"Projects a vector of H into C^{N/2}.\"\"\"\n",
    "\n",
    "        N = self.M // 4\n",
    "        return z[:N]\n",
    "\n",
    "\n",
    "    def pi_inverse(self, z: np.array) -> np.array:\n",
    "        \"\"\"Expands a vector of C^{N/2} by expanding it with its\n",
    "        complex conjugate.\"\"\"\n",
    "\n",
    "        z_conjugate = z[::-1]\n",
    "        z_conjugate = [np.conjugate(x) for x in z_conjugate]\n",
    "        return np.concatenate([z, z_conjugate])\n",
    "    \n",
    "    def create_sigma_R_basis(self):\n",
    "        \"\"\"Creates the basis (sigma(1), sigma(X), ..., sigma(X** N-1)).\"\"\"\n",
    "\n",
    "        self.sigma_R_basis = np.array(self.vandermonde(self.xi, self.M)).T\n",
    "\n",
    "    def compute_basis_coordinates(self, z):\n",
    "        \"\"\"Computes the coordinates of a vector with respect to the orthogonal lattice basis.\"\"\"\n",
    "        output = np.array([np.real(np.vdot(z, b) / np.vdot(b,b)) for b in self.sigma_R_basis])\n",
    "        return output\n",
    "\n",
    "    def sigma_R_discretization(self, z):\n",
    "        \"\"\"Projects a vector on the lattice using coordinate wise random rounding.\"\"\"\n",
    "        coordinates = self.compute_basis_coordinates(z)\n",
    "\n",
    "        rounded_coordinates = coordinate_wise_random_rounding(coordinates)\n",
    "        y = np.matmul(self.sigma_R_basis.T, rounded_coordinates)\n",
    "        return y\n",
    "\n",
    "\n",
    "    def encode(self, z: np.array) -> Polynomial:\n",
    "        \"\"\"Encodes a vector by expanding it first to H,\n",
    "        scale it, project it on the lattice of sigma(R), and performs\n",
    "        sigma inverse.\n",
    "        \"\"\"\n",
    "        pi_z = self.pi_inverse(z)\n",
    "        scaled_pi_z = self.scale * pi_z\n",
    "        rounded_scale_pi_zi = self.sigma_R_discretization(scaled_pi_z)\n",
    "        p = self.sigma_inverse(rounded_scale_pi_zi)\n",
    "\n",
    "        # We round it afterwards due to numerical imprecision\n",
    "        coef = np.round(np.real(p.coef)).astype(int)\n",
    "        p = self.context.QPolynomial(coef)\n",
    "        \n",
    "        return p\n",
    "\n",
    "\n",
    "    def decode(self, p: Polynomial) -> np.array:\n",
    "        \"\"\"Decodes a polynomial by removing the scale, \n",
    "        evaluating on the roots, and project it on C^(N/2)\"\"\"\n",
    "        rescaled_p = p / self.scale\n",
    "        z = self.sigma(rescaled_p)\n",
    "        pi_z = self.pi(z)\n",
    "        return pi_z\n",
    "        \n",
    "    def decode_float(self, p:Polynomial) -> np.array:\n",
    "        pi_z = self.decode(p)\n",
    "        pi_z = np.real(pi_z)\n",
    "        return pi_z"
   ]
  },
  {
   "cell_type": "markdown",
   "metadata": {},
   "source": [
    "To be able to implement CKKS encryption and decryption, we must first generate the secret and public keys. To do so, we will define a few helper functions for arithmetic on $\\mathbb{Z}_q[X]/(X^N + 1)$."
   ]
  },
  {
   "cell_type": "code",
   "execution_count": 2,
   "metadata": {
    "ExecuteTime": {
     "end_time": "2020-09-11T06:42:34.998520Z",
     "start_time": "2020-09-11T06:42:34.989261Z"
    }
   },
   "outputs": [],
   "source": [
    "from numpy.polynomial import Polynomial\n",
    "\n",
    "def mod_q(coeffs: np.ndarray, q: int) -> np.ndarray:\n",
    "    \"\"\"Reduce modulo q to (-q/2,q/2]\"\"\"\n",
    "    \n",
    "    r = coeffs % q\n",
    "    # Coefficients larger than q/2 are sent to (-q/2,0]\n",
    "    to_cycle = r > (q/2)\n",
    "    r[to_cycle] = r[to_cycle] - q\n",
    "    return r\n",
    "\n",
    "def mod_q_polynomial(p: Polynomial, q: int) -> Polynomial:\n",
    "    \"\"\"Reduces modulo q the coefficients of a polynomial\"\"\"\n",
    "    coeffs = p.coef\n",
    "    coeffs_mod_q = mod_q(coeffs, q)\n",
    "    p = Polynomial(coeffs_mod_q)\n",
    "    return p"
   ]
  },
  {
   "cell_type": "markdown",
   "metadata": {},
   "source": [
    "While it is possible to simply create functions `add(p1,p2)`, and `multiply(p1,p2)` whenever we want to add or multiply polynomials in $\\mathbb{Z}_q[X]/(X^N + 1)$, a more heavy but elegant way to do this, is to create custom polynomial objects, which will wrap the `Polynomial` class of Numpy and overload addition and multiplication.\n",
    "\n",
    "To do this, we create two classes `QPolynomialGenerator`, which will be used to create `QPolynomial` objects, which can be added or multiplied together."
   ]
  },
  {
   "cell_type": "code",
   "execution_count": 3,
   "metadata": {
    "ExecuteTime": {
     "end_time": "2020-09-11T06:42:42.413598Z",
     "start_time": "2020-09-11T06:42:42.382443Z"
    }
   },
   "outputs": [],
   "source": [
    "from numpy.polynomial import polynomial as poly\n",
    "from numpy.polynomial import Polynomial\n",
    "from __future__ import annotations\n",
    "        \n",
    "class QPolynomialGenerator:\n",
    "    \"\"\"Polynomial generator for polynomials in Z_q[X]/(X^N + 1)\"\"\"\n",
    "    \n",
    "    def __init__(self, N: int, q: int):\n",
    "        self.q = q\n",
    "        \n",
    "        coeffs = np.zeros(N + 1)\n",
    "        coeffs[0] = 1\n",
    "        coeffs[-1] = 1\n",
    "        \n",
    "        self.poly_modulus = Polynomial(coeffs)\n",
    "    \n",
    "    def __call__(self, coef) -> QPolynomial:\n",
    "        \"\"\"Creates a polynomial from coefficients.\"\"\"\n",
    "        return QPolynomial(coef, self.q, self.poly_modulus, self)\n",
    "    \n",
    "class QPolynomial:\n",
    "    \"\"\"Polynomial in Z_q[X]/(X^N + 1). \n",
    "\n",
    "    Addition, substraction, multiplication and division are overloaded with\n",
    "    the correct operations inZ_q[X]/(X^N + 1).\"\"\"\n",
    "\n",
    "    def __init__(self, coef, q, poly_modulus, generator):\n",
    "        self.p = Polynomial(coef)\n",
    "        self.q = q\n",
    "        self.poly_modulus = poly_modulus\n",
    "        self.generator = generator\n",
    "\n",
    "    def __getattr__(self,k):\n",
    "        \"\"\"Overload attribute getter to fetch the wrapped polynomial attributes if it\n",
    "        is not present in the QPolynomial.\"\"\"\n",
    "        if k in self.__dict__.keys():\n",
    "            return getattr(self, k)\n",
    "        else:\n",
    "            try:\n",
    "                return getattr(self.p, k)\n",
    "            except AttributeError as e:\n",
    "                pass\n",
    "\n",
    "    def __mul__(self, right) -> QPolynomial:\n",
    "        if isinstance(right, QPolynomial):\n",
    "            right = right.p\n",
    "        p_mul = self.p * right % self.poly_modulus\n",
    "        p_mul = self.generator(p_mul.coef)\n",
    "        return p_mul\n",
    "\n",
    "    def __rmul__(self, left) -> QPolynomial:\n",
    "        return self.__mul__(left)\n",
    "\n",
    "    def __add__(self, right) -> QPolynomial:\n",
    "        if isinstance(right, QPolynomial):\n",
    "            right = right.p\n",
    "        p_add = (self.p + right) % self.poly_modulus\n",
    "        p_add = self.generator(p_add.coef)\n",
    "        return p_add\n",
    "\n",
    "    def __radd__(self, left) -> QPolynomial:\n",
    "        return self.__add__(left)\n",
    "\n",
    "    def __sub__(self, qpoly: QPolynomial) -> QPolynomial:\n",
    "        p_sub = (self.p - qpoly.p) % self.poly_modulus\n",
    "        p_sub = self.generator(p_sub.coef)\n",
    "        return p_sub\n",
    "\n",
    "    def __rsub__(self, qpoly: QPolynomial) -> QPolynomial:\n",
    "        p_sub = (qpoly.p - self.p) % self.poly_modulus\n",
    "        p_sub = self.generator(p_sub.coef)\n",
    "        return p_sub\n",
    "\n",
    "    def __neg__(self):\n",
    "        p_neg = - self.p %self.poly_modulus\n",
    "        p_neg = self.generator(p_neg.coef)\n",
    "        return p_neg\n",
    "\n",
    "    def __pos__(self):\n",
    "        p_pos = self.p %self.poly_modulus\n",
    "        p_pos = self.generator(p_pos.coef)\n",
    "        return p_pos\n",
    "\n",
    "    def __truediv__ (self, scale):\n",
    "        p_div = self.p / scale\n",
    "        p_div = self.generator(p_div.coef)\n",
    "        return p_div\n",
    "\n",
    "    def __call__(self, x):\n",
    "        return self.p(x)\n",
    "\n",
    "    def __repr__(self):\n",
    "        return self.p.__repr__()"
   ]
  },
  {
   "cell_type": "markdown",
   "metadata": {},
   "source": [
    "We can see it in use here, we can directly add and multiply polynomials."
   ]
  },
  {
   "cell_type": "code",
   "execution_count": 4,
   "metadata": {
    "ExecuteTime": {
     "end_time": "2020-09-11T06:42:45.686899Z",
     "start_time": "2020-09-11T06:42:45.675916Z"
    }
   },
   "outputs": [],
   "source": [
    "N = 4\n",
    "q = 2**16\n",
    "\n",
    "polynomial_generator = QPolynomialGenerator(N, q)\n",
    "a = polynomial_generator([1,0,0,1])\n",
    "b = polynomial_generator([0,0,0,1])"
   ]
  },
  {
   "cell_type": "code",
   "execution_count": 5,
   "metadata": {
    "ExecuteTime": {
     "end_time": "2020-09-11T06:42:46.849252Z",
     "start_time": "2020-09-11T06:42:46.822630Z"
    }
   },
   "outputs": [
    {
     "data": {
      "text/latex": [
       "$x \\mapsto \\text{1.0}\\color{LightGray}{ + \\text{0.0}\\,x}\\color{LightGray}{ + \\text{0.0}\\,x^{2}} + \\text{1.0}\\,x^{3}$"
      ],
      "text/plain": [
       "Polynomial([1., 0., 0., 1.], domain=[-1,  1], window=[-1,  1])"
      ]
     },
     "execution_count": 5,
     "metadata": {},
     "output_type": "execute_result"
    }
   ],
   "source": [
    "a"
   ]
  },
  {
   "cell_type": "markdown",
   "metadata": {},
   "source": [
    "Addition works as expected:"
   ]
  },
  {
   "cell_type": "code",
   "execution_count": 6,
   "metadata": {
    "ExecuteTime": {
     "end_time": "2020-09-11T06:42:48.267668Z",
     "start_time": "2020-09-11T06:42:48.252101Z"
    }
   },
   "outputs": [
    {
     "data": {
      "text/latex": [
       "$x \\mapsto \\text{1.0}\\color{LightGray}{ + \\text{0.0}\\,x}\\color{LightGray}{ + \\text{0.0}\\,x^{2}} + \\text{2.0}\\,x^{3}$"
      ],
      "text/plain": [
       "Polynomial([1., 0., 0., 2.], domain=[-1,  1], window=[-1,  1])"
      ]
     },
     "execution_count": 6,
     "metadata": {},
     "output_type": "execute_result"
    }
   ],
   "source": [
    "a + b"
   ]
  },
  {
   "cell_type": "markdown",
   "metadata": {},
   "source": [
    "The good thing is to see that multiplications are done modulo $X^N + 1$, therefore we have that $a * b = X^3 (X^3 + 1) = X^6 + X^3 = X^4 * X^2 + X^3 = (-1) X^2 + X^3 = X^3 - X^2$:"
   ]
  },
  {
   "cell_type": "code",
   "execution_count": 7,
   "metadata": {
    "ExecuteTime": {
     "end_time": "2020-09-11T06:42:57.738171Z",
     "start_time": "2020-09-11T06:42:57.728129Z"
    }
   },
   "outputs": [
    {
     "data": {
      "text/latex": [
       "$x \\mapsto \\color{LightGray}{\\text{0.0}}\\color{LightGray}{ + \\text{0.0}\\,x} - \\text{1.0}\\,x^{2} + \\text{1.0}\\,x^{3}$"
      ],
      "text/plain": [
       "Polynomial([ 0.,  0., -1.,  1.], domain=[-1,  1], window=[-1,  1])"
      ]
     },
     "execution_count": 7,
     "metadata": {},
     "output_type": "execute_result"
    }
   ],
   "source": [
    "a * b"
   ]
  },
  {
   "cell_type": "markdown",
   "metadata": {},
   "source": [
    "Now we will define `PolynomialSampler`, a base class to generate polynomials randomly. This will be inherited by the distributions we will use."
   ]
  },
  {
   "cell_type": "code",
   "execution_count": 8,
   "metadata": {
    "ExecuteTime": {
     "end_time": "2020-09-11T06:43:34.357617Z",
     "start_time": "2020-09-11T06:43:34.349666Z"
    }
   },
   "outputs": [],
   "source": [
    "class PolynomialSampler:\n",
    "    \"\"\"Base class to sample polynomials.\"\"\"\n",
    "    def __init__(self, context):\n",
    "        self.context = context\n",
    "        \n",
    "    def __getattr__(self,k):\n",
    "        \"\"\"Context variables are directly linked to the instance.\"\"\"\n",
    "        return getattr(self.context, k)\n",
    "        \n",
    "    def polynomial(self, coeffs):\n",
    "        \"\"\"Create a polynomial using the context.\"\"\"\n",
    "        p = self.context.QPolynomial(coeffs)\n",
    "        return p"
   ]
  },
  {
   "cell_type": "code",
   "execution_count": 9,
   "metadata": {
    "ExecuteTime": {
     "end_time": "2020-09-11T06:43:34.594854Z",
     "start_time": "2020-09-11T06:43:34.587142Z"
    }
   },
   "outputs": [],
   "source": [
    "class DG(PolynomialSampler):\n",
    "    def sample(self):\n",
    "        coeffs = np.random.normal(np.zeros(self.N), self.sigma)\n",
    "        \n",
    "        coeffs = np.array(coordinate_wise_random_rounding(coeffs))\n",
    "        coeffs = mod_q(coeffs, self.q)\n",
    "        \n",
    "        p = self.polynomial(coeffs)\n",
    "        return p"
   ]
  },
  {
   "cell_type": "code",
   "execution_count": null,
   "metadata": {},
   "outputs": [],
   "source": [
    "dg = DG()\n",
    "dg.s"
   ]
  },
  {
   "cell_type": "markdown",
   "metadata": {},
   "source": [
    "We can now define the random polynomial samplers needed for key generation:"
   ]
  },
  {
   "cell_type": "code",
   "execution_count": 23,
   "metadata": {
    "ExecuteTime": {
     "end_time": "2020-06-28T13:09:14.044240Z",
     "start_time": "2020-06-28T13:09:14.036866Z"
    }
   },
   "outputs": [],
   "source": [
    "class UniformPolynomial(PolynomialSampler):\n",
    "    def sample(self) -> QPolynomial:\n",
    "            \n",
    "        coeffs = np.random.choice(self.q, size=self.N)\n",
    "        coeffs = mod_q(coeffs, self.q)\n",
    "        \n",
    "        p = self.polynomial(coeffs)\n",
    "        return p\n",
    "    \n",
    "    def sample_manually(self, q) -> QPolynomial:\n",
    "        coeffs = np.random.choice(q, size=self.N)\n",
    "        coeffs = mod_q(coeffs, q)\n",
    "        \n",
    "        p = self.polynomial(coeffs)\n",
    "        return p"
   ]
  },
  {
   "cell_type": "code",
   "execution_count": 24,
   "metadata": {
    "ExecuteTime": {
     "end_time": "2020-06-28T13:09:14.243218Z",
     "start_time": "2020-06-28T13:09:14.235895Z"
    }
   },
   "outputs": [],
   "source": [
    "class ZO(PolynomialSampler):\n",
    "    def sample(self):\n",
    "        coeffs = np.random.choice([0,1,-1], size=self.N, p=[1-self.p, self.p /2, self.p/2])\n",
    "        \n",
    "        p = self.polynomial(coeffs)\n",
    "        return p"
   ]
  },
  {
   "cell_type": "code",
   "execution_count": 25,
   "metadata": {
    "ExecuteTime": {
     "end_time": "2020-06-28T13:09:14.438378Z",
     "start_time": "2020-06-28T13:09:14.429068Z"
    }
   },
   "outputs": [],
   "source": [
    "class HWT(PolynomialSampler):\n",
    "    def sample(self):\n",
    "        coeffs = np.random.choice([-1,1], size=self.N)\n",
    "        \n",
    "        slots = np.random.choice(range(self.N), self.N - self.h, replace=False)\n",
    "        \n",
    "        coeffs[slots] = 0\n",
    "            \n",
    "        p = self.polynomial(coeffs)\n",
    "        return p"
   ]
  },
  {
   "cell_type": "code",
   "execution_count": 16,
   "metadata": {
    "ExecuteTime": {
     "end_time": "2020-06-28T07:30:33.549502Z",
     "start_time": "2020-06-28T07:30:33.541796Z"
    }
   },
   "outputs": [],
   "source": [
    "class Context:\n",
    "    def __init__(self, N, moduli):\n",
    "        self.N = N\n",
    "        self.M = N * 2\n",
    "        \n",
    "        self.q = np.cumprod(moduli[:-1])[-1]\n",
    "        self.special_prime = moduli[-1]\n",
    "        \n",
    "        self.QPolynomial = QPolynomialGenerator(N, self.q)\n",
    "        \n",
    "        self.setup_parameters()\n",
    "        \n",
    "        self.hwt = HWT(self)\n",
    "        self.dg = DG(self)\n",
    "        self.uniform = UniformPolynomial(self)\n",
    "        self.zo = ZO(self)\n",
    "        \n",
    "    def setup_parameters(self):\n",
    "        self.h = 64\n",
    "        self.sigma = 3\n",
    "        self.p = 0.5"
   ]
  },
  {
   "cell_type": "code",
   "execution_count": 17,
   "metadata": {
    "ExecuteTime": {
     "end_time": "2020-06-28T07:30:34.808269Z",
     "start_time": "2020-06-28T07:30:34.801152Z"
    }
   },
   "outputs": [],
   "source": [
    "class Keygen:\n",
    "    def __init__(self, context):\n",
    "        self.context = context\n",
    "        \n",
    "    def generate_secret_key(self):\n",
    "        s = self.context.hwt.sample()\n",
    "        return s\n",
    "    \n",
    "    def generate_public_key(self, s):\n",
    "        a = self.context.uniform.sample()\n",
    "        e = self.context.dg.sample()\n",
    "        \n",
    "        b = -(a * s) + e\n",
    "\n",
    "        pk = (b, a)\n",
    "        return pk\n",
    "    \n",
    "    def generate_relin_key(self, s):\n",
    "        a = self.context.uniform.sample_manually(self.context.q * self.context.special_prime)\n",
    "        e = self.context.dg.sample()\n",
    "        \n",
    "        b = -(a * s) + e + self.context.special_prime * s * s\n",
    "        relin_key = (b,a)\n",
    "        return relin_key"
   ]
  },
  {
   "cell_type": "code",
   "execution_count": 18,
   "metadata": {
    "ExecuteTime": {
     "end_time": "2020-06-28T07:30:35.013095Z",
     "start_time": "2020-06-28T07:30:35.007014Z"
    }
   },
   "outputs": [],
   "source": [
    "class Encryptor:\n",
    "    def __init__(self, context, pk):\n",
    "        self.pk = pk\n",
    "        self.context = context\n",
    "        \n",
    "    def encrypt(self, ptx):\n",
    "        v = self.context.zo.sample()\n",
    "        e0 = self.context.dg.sample()\n",
    "        e1 = self.context.dg.sample()\n",
    "\n",
    "        v_pk = (self.pk[0] * v, self.pk[1] * v)\n",
    "        ctx = (v_pk[0] + e0 + ptx, v_pk[1] + e1)\n",
    "        \n",
    "        return ctx"
   ]
  },
  {
   "cell_type": "code",
   "execution_count": 19,
   "metadata": {
    "ExecuteTime": {
     "end_time": "2020-06-28T07:30:35.198006Z",
     "start_time": "2020-06-28T07:30:35.193761Z"
    }
   },
   "outputs": [],
   "source": [
    "class Decryptor:\n",
    "    def __init__(self, context, s):\n",
    "        self.s = s\n",
    "        self.context = context\n",
    "        \n",
    "    def decrypt(self, ctx):\n",
    "        ptx = ctx[0] + self.s * ctx[1]\n",
    "        return ptx"
   ]
  },
  {
   "cell_type": "code",
   "execution_count": 20,
   "metadata": {
    "ExecuteTime": {
     "end_time": "2020-06-28T07:30:35.694153Z",
     "start_time": "2020-06-28T07:30:35.690598Z"
    }
   },
   "outputs": [],
   "source": [
    "N = 512\n",
    "M = N * 2\n",
    "scale = pow(2,15)\n",
    "\n",
    "moduli = [scale * pow(2,5), scale, scale * pow(2,5)]"
   ]
  },
  {
   "cell_type": "code",
   "execution_count": 22,
   "metadata": {
    "ExecuteTime": {
     "end_time": "2020-06-28T07:30:58.646205Z",
     "start_time": "2020-06-28T07:30:58.642502Z"
    }
   },
   "outputs": [],
   "source": [
    "context = Context(N, moduli)\n",
    "keygen = Keygen(context)"
   ]
  },
  {
   "cell_type": "code",
   "execution_count": 23,
   "metadata": {
    "ExecuteTime": {
     "end_time": "2020-06-28T07:30:59.303911Z",
     "start_time": "2020-06-28T07:30:59.225717Z"
    }
   },
   "outputs": [],
   "source": [
    "s = keygen.generate_secret_key()\n",
    "pk = keygen.generate_public_key(s)\n",
    "relin_key = keygen.generate_relin_key(s)"
   ]
  },
  {
   "cell_type": "code",
   "execution_count": 24,
   "metadata": {
    "ExecuteTime": {
     "end_time": "2020-06-28T07:31:01.083866Z",
     "start_time": "2020-06-28T07:31:00.768617Z"
    }
   },
   "outputs": [],
   "source": [
    "encoder = CKKSEncoder(context, scale)"
   ]
  },
  {
   "cell_type": "code",
   "execution_count": 25,
   "metadata": {
    "ExecuteTime": {
     "end_time": "2020-06-28T07:31:01.605670Z",
     "start_time": "2020-06-28T07:31:01.602095Z"
    }
   },
   "outputs": [],
   "source": [
    "encryptor = Encryptor(context, pk)\n",
    "decryptor = Decryptor(context, s)"
   ]
  },
  {
   "cell_type": "code",
   "execution_count": 26,
   "metadata": {
    "ExecuteTime": {
     "end_time": "2020-06-28T07:31:02.083793Z",
     "start_time": "2020-06-28T07:31:02.080585Z"
    }
   },
   "outputs": [],
   "source": [
    "z = np.arange(N//2)"
   ]
  },
  {
   "cell_type": "code",
   "execution_count": 27,
   "metadata": {
    "ExecuteTime": {
     "end_time": "2020-06-28T07:31:02.830878Z",
     "start_time": "2020-06-28T07:31:02.452061Z"
    }
   },
   "outputs": [],
   "source": [
    "ptx = encoder.encode(z)"
   ]
  },
  {
   "cell_type": "code",
   "execution_count": 28,
   "metadata": {
    "ExecuteTime": {
     "end_time": "2020-06-28T07:31:04.011886Z",
     "start_time": "2020-06-28T07:31:02.833840Z"
    }
   },
   "outputs": [
    {
     "data": {
      "text/plain": [
       "array([-1.57280716e-02-4.46050954e-03j,  1.03442567e+00-3.58267220e-03j,\n",
       "        2.01265493e+00+1.30881710e-02j,  3.00760827e+00+2.16980451e-02j,\n",
       "        4.04010763e+00+5.49181320e-02j,  4.94850552e+00-2.65771067e-02j,\n",
       "        6.00117270e+00-3.68379921e-03j,  6.98699589e+00-2.55515916e-02j,\n",
       "        7.99722069e+00-2.55954594e-02j,  9.00319157e+00+2.61870886e-02j,\n",
       "        1.00069622e+01+2.32724669e-02j,  1.10042072e+01-2.11318030e-02j,\n",
       "        1.19946885e+01-3.89330243e-03j,  1.30295089e+01-4.93250780e-02j,\n",
       "        1.39443021e+01+3.87786766e-02j,  1.49963635e+01-1.15161159e-02j,\n",
       "        1.60585743e+01+4.33604859e-02j,  1.70240144e+01-6.20803925e-03j,\n",
       "        1.80326664e+01-6.83078984e-04j,  1.90120357e+01+2.68526646e-03j,\n",
       "        1.99860772e+01+1.71128314e-02j,  2.09903604e+01-2.20889133e-02j,\n",
       "        2.20488862e+01+3.23582278e-02j,  2.29758643e+01+1.34344601e-02j,\n",
       "        2.40086834e+01+4.16482599e-03j,  2.50168795e+01-2.08137464e-04j,\n",
       "        2.60191169e+01+3.36725686e-02j,  2.69969655e+01-6.44496523e-03j,\n",
       "        2.79927858e+01+4.60974949e-02j,  2.90059229e+01+8.33132141e-04j,\n",
       "        2.99974244e+01+2.07453697e-03j,  3.10126251e+01+4.15402194e-02j,\n",
       "        3.20350643e+01+1.61358842e-02j,  3.29983296e+01+1.60164150e-02j,\n",
       "        3.39884863e+01-1.11695129e-02j,  3.50335747e+01-3.56207528e-03j,\n",
       "        3.59871183e+01+1.70459410e-02j,  3.69748038e+01-1.68686528e-03j,\n",
       "        3.80353040e+01+3.99686405e-03j,  3.90381395e+01+1.95084746e-02j,\n",
       "        3.99855396e+01-1.13687981e-02j,  4.09944032e+01+1.19306210e-02j,\n",
       "        4.20145886e+01+1.59558245e-02j,  4.30162359e+01-8.05764007e-03j,\n",
       "        4.40368192e+01+3.19404152e-02j,  4.50111119e+01+1.52753191e-02j,\n",
       "        4.59794679e+01+2.34075777e-02j,  4.69954742e+01-1.46384338e-02j,\n",
       "        4.80011739e+01+8.98893383e-05j,  4.90132531e+01-1.71034376e-02j,\n",
       "        5.00033062e+01-6.88702441e-03j,  5.09867242e+01-8.01515218e-03j,\n",
       "        5.19734829e+01-2.29343605e-02j,  5.29987034e+01+1.48538647e-02j,\n",
       "        5.40238614e+01-1.47566394e-02j,  5.49686788e+01+3.16184861e-02j,\n",
       "        5.59747004e+01+6.96724447e-03j,  5.70393091e+01-6.45146282e-02j,\n",
       "        5.80193259e+01+4.12151416e-03j,  5.90127264e+01+7.73507370e-03j,\n",
       "        5.99680719e+01+1.16513648e-02j,  6.09763068e+01-4.37094712e-02j,\n",
       "        6.19852045e+01-1.89708500e-02j,  6.30010373e+01+8.76478858e-03j,\n",
       "        6.40079884e+01-1.75884878e-02j,  6.49766169e+01+2.98291307e-03j,\n",
       "        6.59972349e+01+1.24417335e-02j,  6.70218390e+01-4.90165469e-02j,\n",
       "        6.79866076e+01+4.40001967e-02j,  6.89988116e+01+7.73702041e-03j,\n",
       "        6.99913030e+01-9.73256120e-03j,  7.09983594e+01-2.07338295e-03j,\n",
       "        7.20088206e+01+4.63705278e-02j,  7.29829139e+01-2.75467547e-02j,\n",
       "        7.39772660e+01+3.26607258e-02j,  7.49975171e+01-8.12351836e-03j,\n",
       "        7.60019773e+01+9.17102877e-03j,  7.69556612e+01+1.09412367e-02j,\n",
       "        7.80625070e+01-4.55145855e-02j,  7.90043741e+01-1.75896173e-02j,\n",
       "        8.00196090e+01-1.97455295e-02j,  8.10162083e+01+2.91251702e-02j,\n",
       "        8.20124864e+01-1.84725853e-03j,  8.29976558e+01+4.01729675e-03j,\n",
       "        8.40133354e+01-9.83850672e-04j,  8.49998647e+01+4.58246805e-02j,\n",
       "        8.59688836e+01+1.05939138e-02j,  8.69727015e+01-5.67795260e-03j,\n",
       "        8.80100487e+01+3.09709767e-03j,  8.89935821e+01-1.19886711e-02j,\n",
       "        9.00015444e+01+1.28150071e-02j,  9.10200725e+01-1.76036632e-02j,\n",
       "        9.19930356e+01+8.79449254e-04j,  9.29908796e+01-2.35371632e-02j,\n",
       "        9.39910640e+01+1.99789032e-02j,  9.49557303e+01-2.27475334e-02j,\n",
       "        9.59962922e+01+3.04517667e-02j,  9.69828652e+01-3.17638770e-02j,\n",
       "        9.79865542e+01+4.63603693e-02j,  9.89959250e+01+3.05746945e-02j,\n",
       "        9.99966205e+01-8.88905548e-03j,  1.01011570e+02+3.63211143e-02j,\n",
       "        1.01990265e+02+1.36318436e-02j,  1.02998026e+02-8.52008755e-03j,\n",
       "        1.03985345e+02+1.69124023e-02j,  1.04987896e+02+6.06035568e-03j,\n",
       "        1.05956959e+02-3.16827769e-02j,  1.07018771e+02-6.14186288e-02j,\n",
       "        1.07990258e+02+3.77795011e-02j,  1.08989411e+02+2.73681146e-03j,\n",
       "        1.09993726e+02+5.61074909e-02j,  1.10948929e+02-3.27469813e-02j,\n",
       "        1.11991822e+02-1.76185963e-02j,  1.13000207e+02-6.47198000e-03j,\n",
       "        1.14072751e+02-1.43669919e-02j,  1.15013668e+02-1.35644017e-03j,\n",
       "        1.16017999e+02-9.66529650e-03j,  1.17000007e+02-9.95327871e-03j,\n",
       "        1.18004325e+02+3.09788151e-03j,  1.18966536e+02+9.72086817e-03j,\n",
       "        1.19997562e+02+4.93960084e-02j,  1.21004989e+02-6.21225335e-03j,\n",
       "        1.21977738e+02-4.62726907e-02j,  1.23014620e+02-1.80145438e-02j,\n",
       "        1.23994486e+02-6.38515848e-03j,  1.24953958e+02-7.82938599e-03j,\n",
       "        1.26043301e+02-2.45647570e-02j,  1.26968402e+02-1.49043022e-02j,\n",
       "        1.27982687e+02-1.22800307e-02j,  1.29003067e+02+4.79321233e-02j,\n",
       "        1.29997826e+02-4.80776670e-02j,  1.31006320e+02+2.46646358e-02j,\n",
       "        1.31969343e+02+1.06891902e-02j,  1.33042530e+02+1.28519512e-02j,\n",
       "        1.33995637e+02+1.81744903e-02j,  1.35004200e+02-3.66737828e-02j,\n",
       "        1.36015664e+02+2.54858211e-03j,  1.37018762e+02-5.93127702e-03j,\n",
       "        1.37966251e+02-3.75271678e-03j,  1.38965815e+02-1.84432836e-02j,\n",
       "        1.40059174e+02+6.43271860e-02j,  1.40992075e+02+4.28488047e-03j,\n",
       "        1.41984841e+02+9.80460907e-03j,  1.42981216e+02-7.23684267e-02j,\n",
       "        1.43989649e+02-1.28830236e-04j,  1.45037452e+02-4.14399193e-02j,\n",
       "        1.45975722e+02+1.40434034e-02j,  1.47003606e+02+4.16493856e-02j,\n",
       "        1.47989027e+02-1.00631989e-02j,  1.49042197e+02+3.21181486e-04j,\n",
       "        1.50007300e+02-1.11688867e-02j,  1.51001472e+02+1.77091678e-02j,\n",
       "        1.52083408e+02-7.11411693e-02j,  1.53027201e+02-3.37583724e-02j,\n",
       "        1.53978120e+02+9.00540118e-03j,  1.55016995e+02-2.76688742e-02j,\n",
       "        1.56005653e+02+1.74378179e-02j,  1.57014884e+02+8.09638596e-04j,\n",
       "        1.58008216e+02+4.41637522e-02j,  1.59011060e+02-3.21634094e-02j,\n",
       "        1.59981502e+02+2.06683975e-03j,  1.61010179e+02+2.18998520e-02j,\n",
       "        1.61993488e+02+1.87474039e-02j,  1.62988685e+02-1.25397353e-02j,\n",
       "        1.64013559e+02+1.01640857e-02j,  1.65022600e+02+1.37750553e-02j,\n",
       "        1.66000557e+02-9.07948046e-03j,  1.67002460e+02-1.83805861e-02j,\n",
       "        1.67981269e+02-2.25044683e-02j,  1.69003029e+02+4.01255944e-03j,\n",
       "        1.69986147e+02-7.41806111e-03j,  1.71030139e+02+2.46394805e-03j,\n",
       "        1.72053344e+02+2.47883163e-02j,  1.73006892e+02+6.16028663e-03j,\n",
       "        1.73999657e+02+3.12446085e-02j,  1.74994158e+02+1.82757166e-02j,\n",
       "        1.76011714e+02+5.60953223e-02j,  1.77004565e+02-2.08943080e-02j,\n",
       "        1.77988337e+02+3.95185024e-03j,  1.79007028e+02+1.49386049e-02j,\n",
       "        1.80069739e+02+2.06169214e-02j,  1.81012516e+02+5.00862863e-03j,\n",
       "        1.82026159e+02-3.12826138e-02j,  1.82991699e+02+5.40695334e-03j,\n",
       "        1.84025993e+02+3.99913948e-03j,  1.84986506e+02-1.41129762e-02j,\n",
       "        1.86042189e+02+4.02869514e-02j,  1.87023081e+02+5.50619632e-02j,\n",
       "        1.87991195e+02+1.26701571e-02j,  1.89026975e+02+3.17781572e-02j,\n",
       "        1.89997338e+02-6.53825177e-03j,  1.91070166e+02-2.09812557e-02j,\n",
       "        1.91983210e+02-4.30065096e-03j,  1.93011848e+02-7.25825004e-02j,\n",
       "        1.94065956e+02+5.26599658e-02j,  1.95013423e+02-1.75964029e-02j,\n",
       "        1.96032113e+02+2.09022085e-02j,  1.96975783e+02+5.05504987e-05j,\n",
       "        1.98006889e+02-1.15445001e-02j,  1.99038512e+02+1.73808152e-02j,\n",
       "        2.00013305e+02-3.32975060e-02j,  2.00970529e+02+5.30914844e-02j,\n",
       "        2.01998882e+02-8.19010078e-03j,  2.03012958e+02+1.55307201e-02j,\n",
       "        2.03991282e+02+3.06180775e-02j,  2.04992308e+02+1.01123554e-02j,\n",
       "        2.06006698e+02-9.10959074e-03j,  2.07108880e+02-6.48650199e-03j,\n",
       "        2.07976380e+02-1.89882817e-02j,  2.09001933e+02-4.84339657e-03j,\n",
       "        2.10013168e+02-4.62028924e-02j,  2.10992441e+02+2.52352192e-04j,\n",
       "        2.11993469e+02+2.53034479e-02j,  2.13027660e+02+2.60703486e-02j,\n",
       "        2.13973224e+02-2.76424965e-02j,  2.14992026e+02-3.09967291e-03j,\n",
       "        2.15987181e+02-2.53696280e-02j,  2.16998017e+02-3.78915461e-02j,\n",
       "        2.18086937e+02+9.04729190e-03j,  2.18926454e+02+3.62232341e-02j,\n",
       "        2.20031840e+02-4.64554725e-02j,  2.20981374e+02-2.64588594e-02j,\n",
       "        2.21981979e+02+1.97692262e-03j,  2.23008394e+02-3.26882287e-03j,\n",
       "        2.24000511e+02+2.61054396e-02j,  2.25005629e+02+7.92143343e-03j,\n",
       "        2.25994095e+02+1.52710588e-02j,  2.26996172e+02+1.16150699e-03j,\n",
       "        2.27992422e+02-6.35212540e-02j,  2.29006187e+02+1.02385569e-02j,\n",
       "        2.29968873e+02+4.07960633e-03j,  2.31004095e+02-4.16932108e-02j,\n",
       "        2.32025140e+02-8.67224436e-03j,  2.32980625e+02+7.19349588e-03j,\n",
       "        2.34028950e+02-6.85268602e-03j,  2.35012696e+02-2.55707003e-02j,\n",
       "        2.35992369e+02+1.20609976e-02j,  2.36939782e+02-1.89047609e-02j,\n",
       "        2.38002644e+02+2.89018461e-02j,  2.39005608e+02-2.47806816e-02j,\n",
       "        2.39982286e+02+2.45588254e-02j,  2.41035832e+02-1.51415531e-02j,\n",
       "        2.41994863e+02-1.77411436e-03j,  2.42988620e+02-2.96857911e-02j,\n",
       "        2.44001791e+02-1.11587833e-03j,  2.45024576e+02+3.78027658e-03j,\n",
       "        2.46001184e+02+3.63439603e-02j,  2.46965726e+02-3.37923834e-02j,\n",
       "        2.48060161e+02-2.96353816e-02j,  2.49045067e+02+1.19347148e-02j,\n",
       "        2.49996065e+02+1.37907332e-02j,  2.51011015e+02-3.27577365e-02j,\n",
       "        2.51999861e+02+2.67487691e-02j,  2.53006714e+02-1.55144246e-02j,\n",
       "        2.53988885e+02+2.62108064e-02j,  2.54987837e+02+1.99267530e-03j])"
      ]
     },
     "execution_count": 28,
     "metadata": {},
     "output_type": "execute_result"
    }
   ],
   "source": [
    "ctx = encryptor.encrypt(ptx)\n",
    "ptx = decryptor.decrypt(ctx)\n",
    "encoder.decode(ptx)"
   ]
  },
  {
   "cell_type": "code",
   "execution_count": 29,
   "metadata": {
    "ExecuteTime": {
     "end_time": "2020-06-28T07:31:19.164700Z",
     "start_time": "2020-06-28T07:31:18.220332Z"
    }
   },
   "outputs": [
    {
     "data": {
      "text/plain": [
       "array([-3.14561432e-02-8.92101907e-03j,  2.06885135e+00-7.16534440e-03j,\n",
       "        4.02530987e+00+2.61763420e-02j,  6.01521654e+00+4.33960901e-02j,\n",
       "        8.08021526e+00+1.09836264e-01j,  9.89701104e+00-5.31542134e-02j,\n",
       "        1.20023454e+01-7.36759841e-03j,  1.39739918e+01-5.11031832e-02j,\n",
       "        1.59944414e+01-5.11909188e-02j,  1.80063831e+01+5.23741771e-02j,\n",
       "        2.00139245e+01+4.65449338e-02j,  2.20084145e+01-4.22636061e-02j,\n",
       "        2.39893770e+01-7.78660486e-03j,  2.60590178e+01-9.86501559e-02j,\n",
       "        2.78886043e+01+7.75573532e-02j,  2.99927269e+01-2.30322317e-02j,\n",
       "        3.21171487e+01+8.67209717e-02j,  3.40480289e+01-1.24160785e-02j,\n",
       "        3.60653329e+01-1.36615797e-03j,  3.80240714e+01+5.37053291e-03j,\n",
       "        3.99721543e+01+3.42256627e-02j,  4.19807207e+01-4.41778267e-02j,\n",
       "        4.40977724e+01+6.47164556e-02j,  4.59517285e+01+2.68689202e-02j,\n",
       "        4.80173667e+01+8.32965199e-03j,  5.00337591e+01-4.16274929e-04j,\n",
       "        5.20382339e+01+6.73451373e-02j,  5.39939310e+01-1.28899305e-02j,\n",
       "        5.59855717e+01+9.21949897e-02j,  5.80118458e+01+1.66626428e-03j,\n",
       "        5.99948488e+01+4.14907394e-03j,  6.20252502e+01+8.30804388e-02j,\n",
       "        6.40701286e+01+3.22717685e-02j,  6.59966593e+01+3.20328300e-02j,\n",
       "        6.79769727e+01-2.23390257e-02j,  7.00671495e+01-7.12415056e-03j,\n",
       "        7.19742365e+01+3.40918819e-02j,  7.39496076e+01-3.37373056e-03j,\n",
       "        7.60706081e+01+7.99372809e-03j,  7.80762790e+01+3.90169492e-02j,\n",
       "        7.99710792e+01-2.27375962e-02j,  8.19888065e+01+2.38612420e-02j,\n",
       "        8.40291773e+01+3.19116489e-02j,  8.60324719e+01-1.61152801e-02j,\n",
       "        8.80736384e+01+6.38808303e-02j,  9.00222238e+01+3.05506382e-02j,\n",
       "        9.19589358e+01+4.68151553e-02j,  9.39909483e+01-2.92768676e-02j,\n",
       "        9.60023477e+01+1.79778677e-04j,  9.80265063e+01-3.42068752e-02j,\n",
       "        1.00006612e+02-1.37740488e-02j,  1.01973448e+02-1.60303044e-02j,\n",
       "        1.03946966e+02-4.58687209e-02j,  1.05997407e+02+2.97077294e-02j,\n",
       "        1.08047723e+02-2.95132788e-02j,  1.09937358e+02+6.32369722e-02j,\n",
       "        1.11949401e+02+1.39344889e-02j,  1.14078618e+02-1.29029256e-01j,\n",
       "        1.16038652e+02+8.24302833e-03j,  1.18025453e+02+1.54701474e-02j,\n",
       "        1.19936144e+02+2.33027296e-02j,  1.21952614e+02-8.74189425e-02j,\n",
       "        1.23970409e+02-3.79417000e-02j,  1.26002075e+02+1.75295772e-02j,\n",
       "        1.28015977e+02-3.51769756e-02j,  1.29953234e+02+5.96582614e-03j,\n",
       "        1.31994470e+02+2.48834669e-02j,  1.34043678e+02-9.80330939e-02j,\n",
       "        1.35973215e+02+8.80003935e-02j,  1.37997623e+02+1.54740408e-02j,\n",
       "        1.39982606e+02-1.94651224e-02j,  1.41996719e+02-4.14676589e-03j,\n",
       "        1.44017641e+02+9.27410556e-02j,  1.45965828e+02-5.50935093e-02j,\n",
       "        1.47954532e+02+6.53214517e-02j,  1.49995034e+02-1.62470367e-02j,\n",
       "        1.52003955e+02+1.83420575e-02j,  1.53911322e+02+2.18824734e-02j,\n",
       "        1.56125014e+02-9.10291710e-02j,  1.58008748e+02-3.51792345e-02j,\n",
       "        1.60039218e+02-3.94910590e-02j,  1.62032417e+02+5.82503405e-02j,\n",
       "        1.64024973e+02-3.69451706e-03j,  1.65995312e+02+8.03459350e-03j,\n",
       "        1.68026671e+02-1.96770134e-03j,  1.69999729e+02+9.16493609e-02j,\n",
       "        1.71937767e+02+2.11878276e-02j,  1.73945403e+02-1.13559052e-02j,\n",
       "        1.76020097e+02+6.19419534e-03j,  1.77987164e+02-2.39773421e-02j,\n",
       "        1.80003089e+02+2.56300141e-02j,  1.82040145e+02-3.52073264e-02j,\n",
       "        1.83986071e+02+1.75889851e-03j,  1.85981759e+02-4.70743263e-02j,\n",
       "        1.87982128e+02+3.99578063e-02j,  1.89911461e+02-4.54950669e-02j,\n",
       "        1.91992584e+02+6.09035333e-02j,  1.93965730e+02-6.35277540e-02j,\n",
       "        1.95973108e+02+9.27207386e-02j,  1.97991850e+02+6.11493890e-02j,\n",
       "        1.99993241e+02-1.77781110e-02j,  2.02023140e+02+7.26422286e-02j,\n",
       "        2.03980530e+02+2.72636872e-02j,  2.05996051e+02-1.70401751e-02j,\n",
       "        2.07970691e+02+3.38248046e-02j,  2.09975792e+02+1.21207114e-02j,\n",
       "        2.11913918e+02-6.33655539e-02j,  2.14037543e+02-1.22837258e-01j,\n",
       "        2.15980516e+02+7.55590022e-02j,  2.17978821e+02+5.47362292e-03j,\n",
       "        2.19987453e+02+1.12214982e-01j,  2.21897857e+02-6.54939625e-02j,\n",
       "        2.23983644e+02-3.52371927e-02j,  2.26000414e+02-1.29439600e-02j,\n",
       "        2.28145503e+02-2.87339839e-02j,  2.30027335e+02-2.71288033e-03j,\n",
       "        2.32035999e+02-1.93305930e-02j,  2.34000014e+02-1.99065574e-02j,\n",
       "        2.36008650e+02+6.19576301e-03j,  2.37933073e+02+1.94417363e-02j,\n",
       "        2.39995124e+02+9.87920167e-02j,  2.42009978e+02-1.24245067e-02j,\n",
       "        2.43955476e+02-9.25453814e-02j,  2.46029240e+02-3.60290876e-02j,\n",
       "        2.47988972e+02-1.27703170e-02j,  2.49907916e+02-1.56587720e-02j,\n",
       "        2.52086602e+02-4.91295141e-02j,  2.53936804e+02-2.98086043e-02j,\n",
       "        2.55965374e+02-2.45600614e-02j,  2.58006134e+02+9.58642465e-02j,\n",
       "        2.59995652e+02-9.61553341e-02j,  2.62012640e+02+4.93292716e-02j,\n",
       "        2.63938687e+02+2.13783804e-02j,  2.66085059e+02+2.57039024e-02j,\n",
       "        2.67991273e+02+3.63489806e-02j,  2.70008400e+02-7.33475656e-02j,\n",
       "        2.72031329e+02+5.09716422e-03j,  2.74037524e+02-1.18625540e-02j,\n",
       "        2.75932502e+02-7.50543356e-03j,  2.77931631e+02-3.68865672e-02j,\n",
       "        2.80118349e+02+1.28654372e-01j,  2.81984151e+02+8.56976095e-03j,\n",
       "        2.83969681e+02+1.96092181e-02j,  2.85962431e+02-1.44736853e-01j,\n",
       "        2.87979297e+02-2.57660471e-04j,  2.90074904e+02-8.28798386e-02j,\n",
       "        2.91951443e+02+2.80868067e-02j,  2.94007211e+02+8.32987712e-02j,\n",
       "        2.95978054e+02-2.01263979e-02j,  2.98084395e+02+6.42362973e-04j,\n",
       "        3.00014600e+02-2.23377735e-02j,  3.02002944e+02+3.54183357e-02j,\n",
       "        3.04166816e+02-1.42282339e-01j,  3.06054401e+02-6.75167449e-02j,\n",
       "        3.07956240e+02+1.80108024e-02j,  3.10033989e+02-5.53377483e-02j,\n",
       "        3.12011306e+02+3.48756357e-02j,  3.14029768e+02+1.61927719e-03j,\n",
       "        3.16016431e+02+8.83275043e-02j,  3.18022120e+02-6.43268189e-02j,\n",
       "        3.19963005e+02+4.13367951e-03j,  3.22020357e+02+4.37997039e-02j,\n",
       "        3.23986977e+02+3.74948078e-02j,  3.25977371e+02-2.50794707e-02j,\n",
       "        3.28027117e+02+2.03281714e-02j,  3.30045200e+02+2.75501107e-02j,\n",
       "        3.32001114e+02-1.81589609e-02j,  3.34004920e+02-3.67611721e-02j,\n",
       "        3.35962538e+02-4.50089367e-02j,  3.38006058e+02+8.02511888e-03j,\n",
       "        3.39972294e+02-1.48361222e-02j,  3.42060278e+02+4.92789610e-03j,\n",
       "        3.44106688e+02+4.95766326e-02j,  3.46013784e+02+1.23205733e-02j,\n",
       "        3.47999313e+02+6.24892169e-02j,  3.49988316e+02+3.65514333e-02j,\n",
       "        3.52023429e+02+1.12190645e-01j,  3.54009130e+02-4.17886159e-02j,\n",
       "        3.55976673e+02+7.90370049e-03j,  3.58014056e+02+2.98772098e-02j,\n",
       "        3.60139477e+02+4.12338429e-02j,  3.62025031e+02+1.00172573e-02j,\n",
       "        3.64052319e+02-6.25652276e-02j,  3.65983397e+02+1.08139067e-02j,\n",
       "        3.68051987e+02+7.99827897e-03j,  3.69973011e+02-2.82259524e-02j,\n",
       "        3.72084378e+02+8.05739028e-02j,  3.74046163e+02+1.10123926e-01j,\n",
       "        3.75982391e+02+2.53403143e-02j,  3.78053949e+02+6.35563143e-02j,\n",
       "        3.79994675e+02-1.30765035e-02j,  3.82140333e+02-4.19625113e-02j,\n",
       "        3.83966420e+02-8.60130192e-03j,  3.86023696e+02-1.45165001e-01j,\n",
       "        3.88131912e+02+1.05319932e-01j,  3.90026845e+02-3.51928058e-02j,\n",
       "        3.92064226e+02+4.18044170e-02j,  3.93951565e+02+1.01100997e-04j,\n",
       "        3.96013778e+02-2.30890002e-02j,  3.98077024e+02+3.47616304e-02j,\n",
       "        4.00026610e+02-6.65950120e-02j,  4.01941058e+02+1.06182969e-01j,\n",
       "        4.03997765e+02-1.63802016e-02j,  4.06025916e+02+3.10614402e-02j,\n",
       "        4.07982565e+02+6.12361549e-02j,  4.09984616e+02+2.02247109e-02j,\n",
       "        4.12013396e+02-1.82191815e-02j,  4.14217759e+02-1.29730040e-02j,\n",
       "        4.15952761e+02-3.79765634e-02j,  4.18003866e+02-9.68679313e-03j,\n",
       "        4.20026335e+02-9.24057847e-02j,  4.21984881e+02+5.04704384e-04j,\n",
       "        4.23986938e+02+5.06068958e-02j,  4.26055321e+02+5.21406972e-02j,\n",
       "        4.27946449e+02-5.52849930e-02j,  4.29984052e+02-6.19934583e-03j,\n",
       "        4.31974362e+02-5.07392560e-02j,  4.33996033e+02-7.57830922e-02j,\n",
       "        4.36173875e+02+1.80945838e-02j,  4.37852909e+02+7.24464683e-02j,\n",
       "        4.40063680e+02-9.29109449e-02j,  4.41962748e+02-5.29177187e-02j,\n",
       "        4.43963959e+02+3.95384524e-03j,  4.46016788e+02-6.53764574e-03j,\n",
       "        4.48001023e+02+5.22108792e-02j,  4.50011257e+02+1.58428669e-02j,\n",
       "        4.51988191e+02+3.05421176e-02j,  4.53992344e+02+2.32301398e-03j,\n",
       "        4.55984845e+02-1.27042508e-01j,  4.58012375e+02+2.04771139e-02j,\n",
       "        4.59937747e+02+8.15921265e-03j,  4.62008191e+02-8.33864217e-02j,\n",
       "        4.64050280e+02-1.73444887e-02j,  4.65961251e+02+1.43869918e-02j,\n",
       "        4.68057899e+02-1.37053720e-02j,  4.70025392e+02-5.11414007e-02j,\n",
       "        4.71984737e+02+2.41219952e-02j,  4.73879564e+02-3.78095218e-02j,\n",
       "        4.76005287e+02+5.78036923e-02j,  4.78011216e+02-4.95613632e-02j,\n",
       "        4.79964572e+02+4.91176509e-02j,  4.82071664e+02-3.02831063e-02j,\n",
       "        4.83989725e+02-3.54822873e-03j,  4.85977241e+02-5.93715821e-02j,\n",
       "        4.88003583e+02-2.23175666e-03j,  4.90049153e+02+7.56055317e-03j,\n",
       "        4.92002368e+02+7.26879205e-02j,  4.93931453e+02-6.75847667e-02j,\n",
       "        4.96120321e+02-5.92707631e-02j,  4.98090134e+02+2.38694297e-02j,\n",
       "        4.99992130e+02+2.75814665e-02j,  5.02022029e+02-6.55154730e-02j,\n",
       "        5.03999722e+02+5.34975382e-02j,  5.06013427e+02-3.10288493e-02j,\n",
       "        5.07977770e+02+5.24216128e-02j,  5.09975674e+02+3.98535059e-03j])"
      ]
     },
     "execution_count": 29,
     "metadata": {},
     "output_type": "execute_result"
    }
   ],
   "source": [
    "ct_add = (ctx[0] + ctx[0], ctx[1] + ctx[1])\n",
    "ptx = decryptor.decrypt(ct_add)\n",
    "encoder.decode(ptx)"
   ]
  },
  {
   "cell_type": "code",
   "execution_count": 101,
   "metadata": {
    "ExecuteTime": {
     "end_time": "2020-05-26T11:55:36.834566Z",
     "start_time": "2020-05-26T11:55:36.828002Z"
    }
   },
   "outputs": [],
   "source": [
    "a = np.ones(encoder.slot_count)\n",
    "b = np.ones(encoder.slot_count) * 5"
   ]
  },
  {
   "cell_type": "code",
   "execution_count": 102,
   "metadata": {
    "ExecuteTime": {
     "end_time": "2020-05-26T11:55:39.280539Z",
     "start_time": "2020-05-26T11:55:38.372459Z"
    }
   },
   "outputs": [],
   "source": [
    "ptx1 = encoder.encode(a)\n",
    "ptx2 = encoder.encode(b)"
   ]
  },
  {
   "cell_type": "code",
   "execution_count": 103,
   "metadata": {
    "ExecuteTime": {
     "end_time": "2020-05-26T11:55:39.450845Z",
     "start_time": "2020-05-26T11:55:39.285315Z"
    }
   },
   "outputs": [],
   "source": [
    "ctx1 = encryptor.encrypt(ptx1)\n",
    "ctx2 = encryptor.encrypt(ptx2)"
   ]
  },
  {
   "cell_type": "code",
   "execution_count": 104,
   "metadata": {
    "ExecuteTime": {
     "end_time": "2020-05-26T11:55:42.027946Z",
     "start_time": "2020-05-26T11:55:41.997242Z"
    }
   },
   "outputs": [],
   "source": [
    "ct_mul = (ctx1[0] * ctx2[0], ctx1[1] * ctx2[0] + ctx1[0] * ctx2[1], ctx1[1] * ctx2[1])"
   ]
  },
  {
   "cell_type": "code",
   "execution_count": 105,
   "metadata": {
    "ExecuteTime": {
     "end_time": "2020-05-26T11:55:42.253877Z",
     "start_time": "2020-05-26T11:55:42.230566Z"
    }
   },
   "outputs": [],
   "source": [
    "d = (ct_mul[2] * relin_key[0] / context.special_prime, ct_mul[2] * relin_key[1] / context.special_prime)"
   ]
  },
  {
   "cell_type": "code",
   "execution_count": 106,
   "metadata": {
    "ExecuteTime": {
     "end_time": "2020-05-26T11:55:42.502923Z",
     "start_time": "2020-05-26T11:55:42.421179Z"
    }
   },
   "outputs": [],
   "source": [
    "d = (context.QPolynomial(coordinate_wise_random_rounding(d[0].coef)), \n",
    "     context.QPolynomial(coordinate_wise_random_rounding(d[1].coef)))"
   ]
  },
  {
   "cell_type": "code",
   "execution_count": 107,
   "metadata": {
    "ExecuteTime": {
     "end_time": "2020-05-26T11:55:42.602830Z",
     "start_time": "2020-05-26T11:55:42.596396Z"
    }
   },
   "outputs": [],
   "source": [
    "ct_relin = (ct_mul[0] + d[0], ct_mul[1] + d[1])"
   ]
  },
  {
   "cell_type": "code",
   "execution_count": 108,
   "metadata": {
    "ExecuteTime": {
     "end_time": "2020-05-26T11:55:44.060339Z",
     "start_time": "2020-05-26T11:55:43.722431Z"
    }
   },
   "outputs": [
    {
     "data": {
      "text/plain": [
       "array([ 3.67942309e+12+1.44222254e+13j,  1.72190318e+12-6.71147807e+12j,\n",
       "       -9.63824524e+12+3.09514183e+12j, -1.53583301e+13+2.48433341e+12j,\n",
       "       -5.84136476e+12-9.41468967e+12j,  5.79015404e+12+7.93774668e+12j,\n",
       "        4.15217958e+12-7.77578484e+12j,  1.22094194e+12+6.65815750e+12j,\n",
       "        5.03807402e+12+5.44352568e+12j,  4.33078783e+12-8.32285611e+12j,\n",
       "       -5.09398186e+12-1.81276414e+13j,  1.31595816e+13-1.33159869e+13j,\n",
       "        6.44714033e+12+8.43099497e+12j,  3.85575296e+12+1.81740218e+11j,\n",
       "       -9.73212589e+12+1.48712206e+13j, -1.02839119e+13+4.17555812e+12j,\n",
       "        2.29673298e+12-5.58790190e+12j,  1.31368059e+13-1.05096267e+13j,\n",
       "        4.44610683e+12-5.54353324e+12j,  2.69656638e+12+9.04671654e+12j,\n",
       "        3.15566930e+12-1.48968755e+13j,  6.30210709e+12+8.88434453e+12j,\n",
       "       -6.03966568e+12-1.39449105e+13j,  2.32434458e+13-3.37212146e+12j,\n",
       "        1.49180933e+13+2.02971954e+12j,  2.47705488e+13+8.93393803e+12j,\n",
       "       -2.67876684e+12-1.84447872e+13j, -2.31294214e+12-3.53377103e+12j,\n",
       "       -9.81499497e+11+1.71248671e+12j, -4.68407638e+12+3.35150850e+13j,\n",
       "        6.98399627e+12+1.20072787e+12j, -6.80302901e+12-1.15515024e+13j,\n",
       "       -1.26770877e+13+3.71967485e+12j, -5.75848830e+12-5.37509813e+12j,\n",
       "       -7.77652580e+12+1.61520073e+11j,  3.51467341e+11+1.53012176e+13j,\n",
       "       -8.51242911e+12-1.22250836e+13j, -3.67568087e+12-2.05666953e+13j,\n",
       "       -1.99369823e+13-1.57937562e+13j,  1.21059830e+13-1.22997174e+13j,\n",
       "        2.00581618e+12+1.21075527e+13j,  1.14272332e+12-3.97543161e+13j,\n",
       "        8.38969092e+12-4.33995816e+12j, -2.79111825e+12-1.69973101e+13j,\n",
       "        8.68786043e+12+1.19788813e+13j, -1.15687818e+13-3.04666696e+12j,\n",
       "       -1.32049700e+13-3.32860389e+12j, -2.74701960e+12+1.10086131e+13j,\n",
       "        6.12564180e+12-1.06927529e+13j, -7.12721732e+12-6.89522288e+12j,\n",
       "        1.14031231e+13+1.06611993e+13j, -3.03822597e+13+7.22036188e+11j,\n",
       "        8.27912422e+12-8.89454278e+12j, -1.95295451e+12+6.13431744e+12j,\n",
       "        6.40164254e+12-8.69421252e+12j,  3.97044344e+12-6.07006745e+11j,\n",
       "        1.20127476e+13-1.62546174e+12j,  2.77219317e+12-3.58425806e+12j,\n",
       "        7.85255299e+12-5.73683799e+12j, -2.06251065e+13+1.52218522e+13j,\n",
       "       -1.07679608e+13+7.19356772e+12j,  6.65471873e+12+1.76829064e+12j,\n",
       "        1.43324190e+13-2.71320190e+13j, -1.70735217e+12-1.32694213e+13j,\n",
       "       -1.00734393e+13-1.84814644e+12j, -1.70529224e+13+1.34015992e+13j,\n",
       "        5.02036397e+12+5.03243410e+12j,  9.75721078e+12-1.98256222e+13j,\n",
       "        5.35072233e+11-3.28434797e+12j, -1.59938964e+13-1.12617716e+13j,\n",
       "       -1.04254502e+13-3.83295660e+12j,  7.85473723e+12+8.31054309e+12j,\n",
       "       -1.24167915e+13-7.48845415e+12j, -1.03806048e+12-1.10561245e+13j,\n",
       "       -5.96768971e+11-2.44607666e+13j, -6.48182066e+11+1.06279575e+12j,\n",
       "       -3.59087663e+12+1.14101053e+13j, -4.48825125e+12+7.54882264e+12j,\n",
       "       -5.05039139e+12-1.04832617e+13j,  5.54183473e+11+2.86744016e+11j,\n",
       "       -3.36357104e+12+7.80856409e+12j,  1.52395399e+13-5.75073669e+12j,\n",
       "        3.29267102e+12+3.15389740e+12j, -4.81992904e+12-1.90679803e+11j,\n",
       "       -7.08342270e+12+3.96967673e+11j,  6.27270961e+12+2.93360211e+12j,\n",
       "       -4.47345464e+12+3.83782541e+11j, -6.28343700e+12+1.27830938e+13j,\n",
       "       -4.20403640e+12+1.03561373e+11j,  2.24441175e+13+1.69831712e+13j,\n",
       "       -2.59251368e+11+3.96143394e+11j,  2.18738755e+13+5.26519718e+12j,\n",
       "       -6.29805339e+12-1.36120059e+12j, -1.41985209e+12+1.01450584e+13j,\n",
       "        6.95950395e+12+1.76005879e+13j, -1.74684385e+13-4.90198948e+12j,\n",
       "        2.38290562e+12+3.23313230e+11j, -3.03369706e+11-1.08639550e+13j,\n",
       "        1.85477331e+13-1.62859589e+13j, -1.32520874e+13-7.66689742e+12j,\n",
       "        3.23467672e+12-7.55338421e+12j, -2.25459669e+12-2.04748840e+13j,\n",
       "        1.70752675e+13-3.65756897e+12j, -6.67298236e+12+1.43543528e+13j,\n",
       "        1.11101274e+13-2.32992173e+12j, -1.61465390e+12-3.27209698e+12j,\n",
       "       -5.41983243e+12+1.30432310e+13j, -8.10499827e+12+1.29750713e+13j,\n",
       "        1.82579520e+12-6.30992419e+12j, -2.15102852e+13-1.52348400e+13j,\n",
       "       -1.06622706e+13+3.00887485e+12j, -2.79091010e+12-9.84732450e+12j,\n",
       "       -4.18001078e+12-1.92418538e+11j, -5.39885089e+12+8.10436315e+12j,\n",
       "        1.47709239e+13-5.30658459e+12j, -7.40948935e+12-5.47821159e+12j,\n",
       "       -8.10976891e+11+3.17672764e+12j,  1.34387392e+12+5.77101748e+12j,\n",
       "       -8.99617894e+12-3.03305358e+12j, -7.79324115e+12-5.52800051e+12j,\n",
       "       -1.37380693e+13+1.22599273e+12j, -1.82045037e+13-5.90791406e+12j,\n",
       "       -2.28246187e+12+2.57415632e+12j, -1.04085250e+13+9.80184490e+12j,\n",
       "       -1.04486541e+13+2.40210162e+11j,  6.12145834e+12+1.65406746e+13j,\n",
       "       -3.23332586e+12+6.66811631e+12j, -2.27712728e+12-3.86481128e+11j,\n",
       "       -7.34402787e+12+6.70896216e+12j, -7.21171332e+12-1.36120665e+13j,\n",
       "       -2.80353619e+12-1.28001743e+13j,  1.96115972e+12-5.55582969e+12j,\n",
       "        1.16244488e+13-3.86663539e+12j,  8.82453005e+12-9.91193770e+11j,\n",
       "        1.89352271e+13-6.35061410e+11j, -3.22373119e+12+9.83796733e+12j,\n",
       "       -5.13060934e+12-1.09234545e+13j,  5.26511738e+12+1.72873326e+13j,\n",
       "       -8.99999271e+12-9.69654094e+12j,  5.69015983e+11+6.10862554e+12j,\n",
       "        2.93156916e+12-1.06516023e+13j,  1.79398461e+13-1.29950412e+13j,\n",
       "       -1.11257811e+13-5.13218661e+12j,  4.50787909e+11-1.50747123e+13j,\n",
       "       -8.68680408e+12-8.77480572e+12j, -4.68186744e+12-2.38118877e+12j,\n",
       "       -1.57933581e+11-1.11293836e+13j, -5.09911224e+12-1.01051750e+13j,\n",
       "        4.83182429e+10-4.83570822e+12j, -2.01275119e+12+4.40189435e+12j,\n",
       "        2.52413737e+13+3.02152068e+12j,  8.17738571e+12+8.13990656e+12j,\n",
       "       -5.00799161e+12+7.06277569e+12j, -1.03972370e+13-2.35481397e+12j,\n",
       "        1.28761741e+12-2.33500796e+13j, -8.00291310e+12+4.39496446e+12j,\n",
       "        1.30854422e+13-2.85072408e+11j, -2.36213891e+13-9.20111660e+12j,\n",
       "        7.59868535e+11+2.93939703e+12j,  6.21947267e+12-6.09097480e+12j,\n",
       "       -2.71884888e+13-1.95740146e+13j,  8.30778883e+12-1.09334143e+12j,\n",
       "        2.08899285e+12+1.60074758e+13j, -9.12260611e+12-1.97038223e+12j,\n",
       "        5.06778641e+12-2.74151559e+12j,  2.00435712e+13+1.27025612e+13j,\n",
       "        1.13488955e+13-1.68083348e+12j,  8.07646933e+12+4.60551204e+12j,\n",
       "        1.62374678e+13+2.81139836e+12j, -7.03755518e+12+4.27111353e+12j,\n",
       "        9.39003615e+12+9.78615739e+12j,  1.17825064e+12+1.11206037e+13j,\n",
       "        3.04662744e+12+6.87807833e+12j,  6.86532644e+12+7.06777499e+12j,\n",
       "       -6.72785993e+12+7.33256183e+12j,  4.63349427e+12+1.84360140e+12j,\n",
       "       -7.19198866e+12+7.19480141e+11j, -7.11263956e+11+6.27252358e+12j,\n",
       "        6.71891701e+12+3.20935571e+12j,  5.63203806e+12-5.88361484e+12j,\n",
       "       -1.35392109e+13+6.84910381e+12j,  8.37257550e+12+7.29304605e+12j,\n",
       "        8.06440063e+11-9.21473850e+12j, -7.27780786e+11-2.30928911e+13j,\n",
       "        3.93058854e+12-2.09669003e+13j, -1.47846792e+12-3.25234925e+12j,\n",
       "       -7.36849026e+12-7.69719485e+12j,  4.64914368e+12-6.80190652e+11j,\n",
       "        8.04112997e+12-9.67788215e+12j, -5.89146958e+10+1.18936540e+13j,\n",
       "       -3.69575066e+12+8.89556880e+12j, -5.44446842e+12+4.20234413e+10j,\n",
       "       -5.32708495e+12+1.04898272e+12j,  6.38279922e+12+3.09473828e+11j,\n",
       "       -8.92737054e+11+3.07553303e+12j,  6.49767891e+12+1.67771084e+13j,\n",
       "        1.30386112e+13-1.24740201e+13j, -8.74667133e+12-9.77110032e+12j,\n",
       "       -1.11212906e+13-1.07092372e+13j,  5.81362212e+11-2.99191700e+12j,\n",
       "       -4.60525798e+12+1.09260709e+13j,  2.75561582e+12-7.73817642e+12j,\n",
       "       -2.22345909e+12+7.91298474e+12j, -1.64767007e+13-3.80476635e+11j,\n",
       "        5.99742596e+11+4.27143519e+12j, -2.38184794e+12-4.76676808e+11j,\n",
       "        1.31331513e+13+8.21811730e+12j, -3.31172653e+12-8.44686246e+12j,\n",
       "        1.98164186e+13-1.58546679e+12j,  2.24239185e+13-3.56841912e+12j,\n",
       "       -1.50602356e+12+6.33385156e+12j,  1.93951525e+12+2.65887458e+13j,\n",
       "        7.11203880e+12-4.28022054e+12j, -9.75837877e+11+4.07962867e+12j,\n",
       "        1.30981716e+12-1.05545895e+13j,  2.14847629e+13+9.90455712e+12j,\n",
       "       -6.78329160e+12+8.83744341e+11j, -6.14552669e+12+4.83976696e+12j,\n",
       "        2.30679430e+12+2.57358736e+12j,  1.36185990e+13+1.41218962e+13j,\n",
       "        1.67739946e+13-8.12204599e+12j,  1.39480170e+13+9.11106885e+11j,\n",
       "        5.74816341e+12-1.66700236e+13j,  1.29791817e+12+2.25193146e+13j,\n",
       "        8.98011896e+12+1.62131304e+13j, -3.47282750e+12-7.23445540e+12j,\n",
       "        1.42448449e+12-1.12952785e+13j,  3.98845078e+12-1.21718561e+13j,\n",
       "        5.32401744e+12+2.61742296e+12j, -1.24263644e+13+4.94254362e+12j,\n",
       "        1.74445782e+13+5.13450177e+12j,  1.67586652e+12-4.12782102e+11j,\n",
       "       -5.77710193e+12+7.78921534e+12j,  9.80034050e+10+6.36296442e+12j,\n",
       "        5.56187949e+12-6.26569847e+12j,  4.63926530e+10-1.32584220e+13j,\n",
       "       -1.23005431e+12-1.96346604e+13j,  3.51766945e+12+5.34008392e+12j,\n",
       "        4.18285747e+12-5.74486636e+12j, -1.42551877e+12-6.79640965e+12j,\n",
       "       -9.12456468e+12+1.31280090e+13j, -3.38759776e+12-4.14409564e+12j,\n",
       "       -1.11191038e+13-1.18515796e+12j,  9.02799385e+12-3.31151492e+12j,\n",
       "        3.78006304e+12+1.71367426e+13j,  4.32079220e+12-4.41149979e+12j,\n",
       "       -6.71699794e+12+2.63071690e+13j, -1.13518616e+13+1.69343219e+12j,\n",
       "        4.53725705e+12+5.79612212e+12j, -3.11966016e+12-1.21196000e+13j,\n",
       "       -1.80743934e+13+6.93364133e+12j, -2.58751585e+12-3.07186381e+12j,\n",
       "       -4.07812788e+12-5.57249192e+12j,  3.39177407e+13+2.68789688e+13j,\n",
       "       -1.76000893e+12+1.64817056e+13j,  9.38917792e+12-9.23926113e+12j])"
      ]
     },
     "execution_count": 108,
     "metadata": {},
     "output_type": "execute_result"
    }
   ],
   "source": [
    "ptx = decryptor.decrypt(ct_relin)\n",
    "encoder.decode(ptx) / scale"
   ]
  },
  {
   "cell_type": "code",
   "execution_count": 109,
   "metadata": {
    "ExecuteTime": {
     "end_time": "2020-05-26T11:56:02.719265Z",
     "start_time": "2020-05-26T11:56:02.685081Z"
    }
   },
   "outputs": [],
   "source": [
    "pt_mul = ct_mul[0] + ct_mul[1] * s + ct_mul[2] * s * s"
   ]
  },
  {
   "cell_type": "code",
   "execution_count": 110,
   "metadata": {
    "ExecuteTime": {
     "end_time": "2020-05-26T11:56:04.405644Z",
     "start_time": "2020-05-26T11:56:02.904110Z"
    }
   },
   "outputs": [
    {
     "data": {
      "text/plain": [
       "array([ 5.54214881e+02-2.89972637e+02j,  6.81777741e+02+7.48734060e+02j,\n",
       "        5.26697036e+02-3.75245932e+01j, -1.52396108e+02-7.01592983e+01j,\n",
       "       -6.70670510e+02-2.20930285e+02j, -3.29489140e+01+2.92085089e+02j,\n",
       "       -2.26052514e+00-5.07715403e+02j,  2.27298545e+01+1.94358918e+02j,\n",
       "       -1.52586823e+02+1.39701539e+02j, -3.41207426e+02+1.15570690e+02j,\n",
       "       -3.32481562e+01+7.05404080e+02j,  2.82900981e+02+5.29701631e+02j,\n",
       "        3.19832364e+02+3.56942833e+01j, -3.09452562e+02-3.09068446e+01j,\n",
       "       -1.71144758e+02+1.18537633e+03j,  3.83627614e+02+7.35277388e+01j,\n",
       "        2.22443710e+02+1.05744502e+02j,  2.56457586e+02+3.61654476e+02j,\n",
       "        2.46540987e+02+8.32959592e+02j,  4.20249338e+02-7.40552205e+01j,\n",
       "        1.87535618e+02-3.02408535e+02j, -9.30404983e+02-9.07204549e+01j,\n",
       "        2.26995044e+02+2.43341447e+02j, -2.06210182e+02-3.22705225e+00j,\n",
       "        1.80085368e+00+3.78391011e+02j,  6.35774765e+01-6.19547179e+02j,\n",
       "       -4.34222117e+02-1.88768667e+03j, -1.71133170e+03+4.08474317e+02j,\n",
       "       -9.03830111e+01+2.89668993e+02j, -2.68571984e+02-6.94273457e+01j,\n",
       "       -1.09461807e+02+9.34861340e+00j,  8.91699193e+02+7.89544714e+02j,\n",
       "       -2.55847360e+02-1.37334200e+02j,  2.20254696e+02-6.72779259e+02j,\n",
       "        8.78654105e+01-1.07348141e+02j,  3.57921280e+02+1.28739740e+02j,\n",
       "        5.53772223e+00+9.42174945e+01j, -2.92836450e+02-2.01120874e+02j,\n",
       "        2.76392581e+02+3.15967936e+02j, -8.16079482e+01-1.59595933e+02j,\n",
       "       -1.29718395e+02+5.87959032e+02j,  1.46912044e+02+2.12735722e+02j,\n",
       "       -1.48621094e+00-5.25553099e+02j, -6.26201564e+01-7.34434258e+01j,\n",
       "        3.10493853e+02+2.94334400e+02j,  3.30288406e+02-1.30147745e+02j,\n",
       "        2.04106453e+02+9.52209141e+02j,  3.49565164e+02+5.89200806e+02j,\n",
       "        6.02334939e+01-1.91130822e+02j,  2.09051228e+02+7.64728663e+02j,\n",
       "        8.94110141e+01-2.41104382e+02j, -5.57247563e+02+1.16509291e+03j,\n",
       "        8.09268825e+01-1.03409886e+02j,  2.36655617e+02-1.72988896e+02j,\n",
       "       -3.75126384e+02-3.10177105e+02j,  1.67785112e+02+1.45534687e+02j,\n",
       "       -5.70742476e+02-5.94884620e+02j, -8.44112034e+00-1.66690734e+02j,\n",
       "       -7.62448942e+02+4.32671366e+01j,  9.21605192e+02+2.70738490e+02j,\n",
       "        1.07553871e+02-1.01801900e+02j,  5.53350483e+01-6.41551069e+00j,\n",
       "       -8.12140292e+02+3.44926655e+02j, -1.15702931e+02-1.71504802e+02j,\n",
       "        2.65603222e+01-2.37749662e+02j,  1.72204067e+02-1.04246177e+02j,\n",
       "       -2.43109958e+02+1.16683858e+02j,  3.31342461e+02+9.44038686e+02j,\n",
       "        8.56388341e+01+1.57279798e+02j,  1.42544046e+02-4.49052366e+02j,\n",
       "        5.91109179e+02-1.55725742e+00j, -4.63241447e+02+1.22509913e+02j,\n",
       "       -3.75812759e+02+7.88129630e+01j, -5.22204048e+02+1.25779422e+02j,\n",
       "       -9.75737449e+01+1.00038215e+02j,  6.26426493e+01-1.89653141e+01j,\n",
       "       -1.81055804e+02-2.06541443e+01j,  1.29298790e+02+1.05462087e+02j,\n",
       "        9.80802732e+01+5.09150395e+02j, -4.92337367e+02+3.20550758e+02j,\n",
       "       -3.93156350e+01+4.11030260e+02j,  4.05571825e+02-2.45674240e+02j,\n",
       "        1.30817345e+02-3.18573070e+02j,  1.13728036e+02+5.08340426e+00j,\n",
       "        3.76752126e+02+7.79019993e+02j,  3.77731651e+02-2.79348833e+02j,\n",
       "        6.05786162e+02+3.90506628e+02j,  1.87511671e+02+6.96855283e+01j,\n",
       "        2.79054903e+02-9.35931470e+01j,  3.87561834e+02-2.69848008e+01j,\n",
       "       -1.02214973e+02+4.09408482e+02j, -3.33618908e+02-2.42903694e+02j,\n",
       "        2.65189514e+01-4.16820354e+02j, -4.14590664e+02-4.24263375e+02j,\n",
       "        4.30654982e+02+3.11427313e+02j,  5.70819549e+02+8.13356803e+02j,\n",
       "       -3.64272230e+02-5.30592981e+02j, -3.30748586e+02+1.58222739e+02j,\n",
       "       -2.69012821e+02+2.63756435e+02j, -3.18757665e+02-4.25226655e+01j,\n",
       "       -9.93376217e+01+2.51557653e+02j,  4.86693796e+02-2.48465454e+02j,\n",
       "       -3.31988573e+02-6.27081797e+02j, -4.45929363e+02-4.98340555e+02j,\n",
       "       -2.54507833e+02+2.38392122e+02j,  4.64549016e+02-1.07275617e+02j,\n",
       "       -5.77859540e+02+6.82927839e+01j, -1.93545307e+02-2.81484579e+02j,\n",
       "       -7.07379379e+02+4.54975609e+02j,  1.98522976e+02-9.09154031e+02j,\n",
       "        4.25652347e+01+1.29190472e+02j,  2.59732961e+02+1.85820478e+02j,\n",
       "       -6.44987908e+02-8.83049869e+00j, -2.45018578e+02+2.56735946e+02j,\n",
       "       -5.30104185e+02-3.72816448e+02j, -1.55700331e+02+1.15496732e+01j,\n",
       "       -3.46943827e+01+1.77206823e+01j, -2.96949796e+02+1.88602099e+02j,\n",
       "        3.78895680e+02-1.23619832e+02j,  2.82965725e+02+2.09330990e+01j,\n",
       "        5.24926570e+01-3.24764832e+02j,  3.63516798e+02-4.28637459e+02j,\n",
       "       -3.42393159e+01-1.16816120e+02j, -1.90689874e+02-2.21057609e+02j,\n",
       "        3.01486624e+02-3.65973660e+02j,  2.67248908e+02+2.11465040e+02j,\n",
       "       -4.60510033e+02-1.04512407e+01j, -6.41260092e+02-3.55582662e+02j,\n",
       "       -6.89368420e+00+1.15662327e+02j,  5.18595346e+02+2.67213268e+02j,\n",
       "        1.38944112e+02+2.83794168e+02j, -6.69852947e+01-1.60646862e+02j,\n",
       "        1.78720247e+02-3.60807204e+01j, -3.10681530e+02-7.75090454e+00j,\n",
       "       -4.62163926e+02+3.09925235e+01j, -4.60116752e+02+2.78118497e+02j,\n",
       "        5.05959742e+01-1.05772626e+03j, -4.90203520e+02-3.56312104e+02j,\n",
       "       -3.22761492e+01-3.10003781e+01j,  2.39122994e+01+4.18331164e+02j,\n",
       "        2.04606368e+02-3.88291909e+02j,  1.66961588e+02+3.72670574e+02j,\n",
       "       -8.92715292e+01-2.49891159e+02j, -4.29470622e+02-1.34378452e+02j,\n",
       "       -4.10068741e+02+3.65204434e+02j,  3.08286693e+01+6.79115886e+01j,\n",
       "       -1.46315596e+02+3.93945366e+02j, -7.69225722e+02-8.09366537e+01j,\n",
       "       -4.97495167e+02+3.66073396e+01j, -1.43093727e+02+2.03123753e+01j,\n",
       "        3.98207495e+02+9.81904684e+01j,  1.70281498e+02+2.59765937e+02j,\n",
       "       -2.41633813e+02+4.45558337e+01j, -9.76709066e+01-2.06883129e+02j,\n",
       "        6.78045490e+02+3.18345856e+02j, -5.76154725e+01-4.12946329e+02j,\n",
       "       -5.26277022e+02-2.63050982e+02j,  4.30159475e+01-1.53390258e+02j,\n",
       "       -5.53860274e+02+1.33730819e+02j,  4.90972519e+02-7.13289997e+01j,\n",
       "        1.60064124e+02-5.38310545e+02j,  1.45715849e+02+2.15802064e+01j,\n",
       "       -9.37795630e+02+2.72705034e+02j,  4.16748420e+02-2.22835023e+02j,\n",
       "       -4.17060238e+01+4.53114032e+02j, -6.49915553e+02-3.87083139e+02j,\n",
       "        5.05220662e+02+3.63978905e+02j, -2.01104916e+02+2.63171875e+02j,\n",
       "       -7.61340155e+02+6.85188929e+01j,  7.42333123e+02+1.96580838e+02j,\n",
       "       -1.32246768e+02-4.56806762e+02j, -1.44914403e+02+2.94686086e+02j,\n",
       "       -6.81803717e+01-1.83753566e+02j,  2.49177837e+02+4.37347074e+01j,\n",
       "        6.87454334e+01-6.59772110e+01j,  1.11218644e+02-9.52063026e+01j,\n",
       "        2.45803912e+02-3.71742711e+02j,  5.67335850e+02-2.86265003e+02j,\n",
       "        1.24963917e+02+3.19969025e+00j, -1.27128853e+02-5.15726324e+02j,\n",
       "       -2.94742628e+02-3.51594418e+02j,  3.47039079e+02+2.91706110e+02j,\n",
       "       -5.62675307e+02+3.76745246e+02j, -2.51246163e+02-1.92605054e+02j,\n",
       "        5.81860747e+02-2.93603760e+00j,  1.37048360e+02+6.18856648e+02j,\n",
       "        3.85461525e+02-4.68192656e+02j,  8.56087403e+01-4.07767620e+02j,\n",
       "       -2.98006587e+02+4.27925984e+02j,  9.28497110e+02+1.21611196e+02j,\n",
       "        2.21648112e+02+1.60706184e+01j, -2.30038012e+01-3.08219384e+02j,\n",
       "       -7.20170556e+02-3.18390587e+02j,  3.68608225e+01+6.37898298e+02j,\n",
       "        1.40463338e+02+2.67679409e+02j,  6.79914730e+01-6.85588950e+01j,\n",
       "        2.66620352e+02+1.13974562e+01j, -1.98717709e+02+1.00743577e+03j,\n",
       "        1.95929104e+01-3.44861027e+02j,  2.49122877e+02+6.91541551e+01j,\n",
       "       -6.54744902e+01+3.91028738e+02j, -1.13958296e+02+2.74805261e+02j,\n",
       "        3.90195898e+01-4.53228544e+02j,  8.68619872e+01+1.98428938e+02j,\n",
       "        2.05589422e+02-4.50412947e+02j, -2.45489895e+02+4.54169104e+02j,\n",
       "        1.87947279e+02-9.67480727e+01j, -1.96896648e+02-2.57364607e+02j,\n",
       "        9.62507880e+01-1.57731981e+02j,  1.34078295e+02+5.29338162e+02j,\n",
       "        3.01014897e+02+7.57402861e+00j, -9.68821634e+01+3.37709014e+02j,\n",
       "        4.36701641e+01+4.84089003e+02j,  7.67832640e+01+1.46512285e+02j,\n",
       "       -2.25192397e+02+4.29166923e+01j,  9.59660413e+02+2.91243163e+02j,\n",
       "        3.07813472e+02+2.38315783e+02j,  2.41575632e+02+7.67481724e+02j,\n",
       "        9.86188924e+02+1.23379593e+02j,  2.04840723e+02+1.90167984e+02j,\n",
       "       -2.54673013e+02+1.33519182e+02j, -1.04153974e+02-4.81616899e+02j,\n",
       "       -3.37974091e+02+1.09016247e+02j,  8.01840137e+02-1.40537431e+01j,\n",
       "       -2.28047006e+02+3.42777816e+02j, -1.18193872e+02+6.90174827e+01j,\n",
       "       -6.25403399e+01-1.78707828e+02j, -4.30877410e+02-2.89080914e+02j,\n",
       "       -4.82174651e+02-1.16406268e+03j,  1.97646817e+02-4.46009693e+02j,\n",
       "       -4.42445680e+02-6.34957564e+01j, -1.71412585e+02-1.68099091e+02j,\n",
       "        8.44394738e+01+2.34347974e+02j, -3.94388951e+02-5.78539206e+01j,\n",
       "        3.52133444e+02+9.68004894e+02j,  5.10992427e+02-2.28076857e+02j,\n",
       "        5.05962108e+02+1.57014143e+03j,  3.69043104e+02-5.26639251e+02j,\n",
       "       -1.39236647e+02-1.78871114e+02j,  4.38645831e+01+4.15931406e+02j,\n",
       "        3.67116511e+02-7.35793740e+02j, -5.20919734e+02-5.89971706e+02j,\n",
       "       -7.65475600e+02+2.97085040e+02j, -5.73463468e+02+5.71504466e+02j,\n",
       "        1.11368450e+03-4.37693052e+01j,  1.89996801e+02+1.64141518e+00j,\n",
       "        7.82658950e+01-3.48783894e+02j, -1.06683566e+02+4.42770895e+01j,\n",
       "       -2.65292421e+02+3.58567898e+02j,  1.03837956e+02-3.95984858e+02j,\n",
       "        2.58552637e+02+1.23346771e+02j,  4.92071848e+02+2.16808602e+02j,\n",
       "       -2.05106514e+02+2.88559768e+02j, -1.70244537e+03-1.19340759e+03j,\n",
       "        1.24488395e+02+1.36372800e+02j,  7.07012533e+02+2.95769664e+02j])"
      ]
     },
     "execution_count": 110,
     "metadata": {},
     "output_type": "execute_result"
    }
   ],
   "source": [
    "encoder.decode(pt_mul) / scale"
   ]
  }
 ],
 "metadata": {
  "kernelspec": {
   "display_name": "Python 3",
   "language": "python",
   "name": "python3"
  },
  "language_info": {
   "codemirror_mode": {
    "name": "ipython",
    "version": 3
   },
   "file_extension": ".py",
   "mimetype": "text/x-python",
   "name": "python",
   "nbconvert_exporter": "python",
   "pygments_lexer": "ipython3",
   "version": "3.8.2"
  },
  "toc": {
   "base_numbering": 1,
   "nav_menu": {},
   "number_sections": true,
   "sideBar": true,
   "skip_h1_title": false,
   "title_cell": "Table of Contents",
   "title_sidebar": "Contents",
   "toc_cell": false,
   "toc_position": {},
   "toc_section_display": true,
   "toc_window_display": false
  }
 },
 "nbformat": 4,
 "nbformat_minor": 4
}
